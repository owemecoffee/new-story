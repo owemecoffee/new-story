{
  "nbformat": 4,
  "nbformat_minor": 0,
  "metadata": {
    "colab": {
      "name": "deeplizard-pytorch.ipynb",
      "provenance": [],
      "authorship_tag": "ABX9TyPDlBM5g5QOdAMFWLvxZwgw",
      "include_colab_link": true
    },
    "kernelspec": {
      "name": "python3",
      "display_name": "Python 3"
    },
    "language_info": {
      "name": "python"
    },
    "accelerator": "GPU",
    "widgets": {
      "application/vnd.jupyter.widget-state+json": {
        "51f1acf314cd4dfa89f39a1fae6f66e0": {
          "model_module": "@jupyter-widgets/controls",
          "model_name": "HBoxModel",
          "model_module_version": "1.5.0",
          "state": {
            "_dom_classes": [],
            "_model_module": "@jupyter-widgets/controls",
            "_model_module_version": "1.5.0",
            "_model_name": "HBoxModel",
            "_view_count": null,
            "_view_module": "@jupyter-widgets/controls",
            "_view_module_version": "1.5.0",
            "_view_name": "HBoxView",
            "box_style": "",
            "children": [
              "IPY_MODEL_eefd089df2d9482698c1b8248779464f",
              "IPY_MODEL_3cbce2bf98584c2d85510131f555a584",
              "IPY_MODEL_30b2b833590e48ef965e8af81a184eaf"
            ],
            "layout": "IPY_MODEL_f1a121a2b5214dd486425a843d82063e"
          }
        },
        "eefd089df2d9482698c1b8248779464f": {
          "model_module": "@jupyter-widgets/controls",
          "model_name": "HTMLModel",
          "model_module_version": "1.5.0",
          "state": {
            "_dom_classes": [],
            "_model_module": "@jupyter-widgets/controls",
            "_model_module_version": "1.5.0",
            "_model_name": "HTMLModel",
            "_view_count": null,
            "_view_module": "@jupyter-widgets/controls",
            "_view_module_version": "1.5.0",
            "_view_name": "HTMLView",
            "description": "",
            "description_tooltip": null,
            "layout": "IPY_MODEL_bbbbf16360244d25b05e483a441e418d",
            "placeholder": "​",
            "style": "IPY_MODEL_b86976db29c643ce8c5d8d0553383997",
            "value": ""
          }
        },
        "3cbce2bf98584c2d85510131f555a584": {
          "model_module": "@jupyter-widgets/controls",
          "model_name": "FloatProgressModel",
          "model_module_version": "1.5.0",
          "state": {
            "_dom_classes": [],
            "_model_module": "@jupyter-widgets/controls",
            "_model_module_version": "1.5.0",
            "_model_name": "FloatProgressModel",
            "_view_count": null,
            "_view_module": "@jupyter-widgets/controls",
            "_view_module_version": "1.5.0",
            "_view_name": "ProgressView",
            "bar_style": "success",
            "description": "",
            "description_tooltip": null,
            "layout": "IPY_MODEL_6bb12c9956e145c78c69cc2e4b133b60",
            "max": 26421880,
            "min": 0,
            "orientation": "horizontal",
            "style": "IPY_MODEL_7fda720fe91a4a5aa1932c70f218948b",
            "value": 26421880
          }
        },
        "30b2b833590e48ef965e8af81a184eaf": {
          "model_module": "@jupyter-widgets/controls",
          "model_name": "HTMLModel",
          "model_module_version": "1.5.0",
          "state": {
            "_dom_classes": [],
            "_model_module": "@jupyter-widgets/controls",
            "_model_module_version": "1.5.0",
            "_model_name": "HTMLModel",
            "_view_count": null,
            "_view_module": "@jupyter-widgets/controls",
            "_view_module_version": "1.5.0",
            "_view_name": "HTMLView",
            "description": "",
            "description_tooltip": null,
            "layout": "IPY_MODEL_0a9d870922124658947adbd058c96bb1",
            "placeholder": "​",
            "style": "IPY_MODEL_48a79a0b78944e6c9b76d5ac7bd5e63a",
            "value": " 26422272/? [00:02&lt;00:00, 19717256.07it/s]"
          }
        },
        "f1a121a2b5214dd486425a843d82063e": {
          "model_module": "@jupyter-widgets/base",
          "model_name": "LayoutModel",
          "model_module_version": "1.2.0",
          "state": {
            "_model_module": "@jupyter-widgets/base",
            "_model_module_version": "1.2.0",
            "_model_name": "LayoutModel",
            "_view_count": null,
            "_view_module": "@jupyter-widgets/base",
            "_view_module_version": "1.2.0",
            "_view_name": "LayoutView",
            "align_content": null,
            "align_items": null,
            "align_self": null,
            "border": null,
            "bottom": null,
            "display": null,
            "flex": null,
            "flex_flow": null,
            "grid_area": null,
            "grid_auto_columns": null,
            "grid_auto_flow": null,
            "grid_auto_rows": null,
            "grid_column": null,
            "grid_gap": null,
            "grid_row": null,
            "grid_template_areas": null,
            "grid_template_columns": null,
            "grid_template_rows": null,
            "height": null,
            "justify_content": null,
            "justify_items": null,
            "left": null,
            "margin": null,
            "max_height": null,
            "max_width": null,
            "min_height": null,
            "min_width": null,
            "object_fit": null,
            "object_position": null,
            "order": null,
            "overflow": null,
            "overflow_x": null,
            "overflow_y": null,
            "padding": null,
            "right": null,
            "top": null,
            "visibility": null,
            "width": null
          }
        },
        "bbbbf16360244d25b05e483a441e418d": {
          "model_module": "@jupyter-widgets/base",
          "model_name": "LayoutModel",
          "model_module_version": "1.2.0",
          "state": {
            "_model_module": "@jupyter-widgets/base",
            "_model_module_version": "1.2.0",
            "_model_name": "LayoutModel",
            "_view_count": null,
            "_view_module": "@jupyter-widgets/base",
            "_view_module_version": "1.2.0",
            "_view_name": "LayoutView",
            "align_content": null,
            "align_items": null,
            "align_self": null,
            "border": null,
            "bottom": null,
            "display": null,
            "flex": null,
            "flex_flow": null,
            "grid_area": null,
            "grid_auto_columns": null,
            "grid_auto_flow": null,
            "grid_auto_rows": null,
            "grid_column": null,
            "grid_gap": null,
            "grid_row": null,
            "grid_template_areas": null,
            "grid_template_columns": null,
            "grid_template_rows": null,
            "height": null,
            "justify_content": null,
            "justify_items": null,
            "left": null,
            "margin": null,
            "max_height": null,
            "max_width": null,
            "min_height": null,
            "min_width": null,
            "object_fit": null,
            "object_position": null,
            "order": null,
            "overflow": null,
            "overflow_x": null,
            "overflow_y": null,
            "padding": null,
            "right": null,
            "top": null,
            "visibility": null,
            "width": null
          }
        },
        "b86976db29c643ce8c5d8d0553383997": {
          "model_module": "@jupyter-widgets/controls",
          "model_name": "DescriptionStyleModel",
          "model_module_version": "1.5.0",
          "state": {
            "_model_module": "@jupyter-widgets/controls",
            "_model_module_version": "1.5.0",
            "_model_name": "DescriptionStyleModel",
            "_view_count": null,
            "_view_module": "@jupyter-widgets/base",
            "_view_module_version": "1.2.0",
            "_view_name": "StyleView",
            "description_width": ""
          }
        },
        "6bb12c9956e145c78c69cc2e4b133b60": {
          "model_module": "@jupyter-widgets/base",
          "model_name": "LayoutModel",
          "model_module_version": "1.2.0",
          "state": {
            "_model_module": "@jupyter-widgets/base",
            "_model_module_version": "1.2.0",
            "_model_name": "LayoutModel",
            "_view_count": null,
            "_view_module": "@jupyter-widgets/base",
            "_view_module_version": "1.2.0",
            "_view_name": "LayoutView",
            "align_content": null,
            "align_items": null,
            "align_self": null,
            "border": null,
            "bottom": null,
            "display": null,
            "flex": null,
            "flex_flow": null,
            "grid_area": null,
            "grid_auto_columns": null,
            "grid_auto_flow": null,
            "grid_auto_rows": null,
            "grid_column": null,
            "grid_gap": null,
            "grid_row": null,
            "grid_template_areas": null,
            "grid_template_columns": null,
            "grid_template_rows": null,
            "height": null,
            "justify_content": null,
            "justify_items": null,
            "left": null,
            "margin": null,
            "max_height": null,
            "max_width": null,
            "min_height": null,
            "min_width": null,
            "object_fit": null,
            "object_position": null,
            "order": null,
            "overflow": null,
            "overflow_x": null,
            "overflow_y": null,
            "padding": null,
            "right": null,
            "top": null,
            "visibility": null,
            "width": null
          }
        },
        "7fda720fe91a4a5aa1932c70f218948b": {
          "model_module": "@jupyter-widgets/controls",
          "model_name": "ProgressStyleModel",
          "model_module_version": "1.5.0",
          "state": {
            "_model_module": "@jupyter-widgets/controls",
            "_model_module_version": "1.5.0",
            "_model_name": "ProgressStyleModel",
            "_view_count": null,
            "_view_module": "@jupyter-widgets/base",
            "_view_module_version": "1.2.0",
            "_view_name": "StyleView",
            "bar_color": null,
            "description_width": ""
          }
        },
        "0a9d870922124658947adbd058c96bb1": {
          "model_module": "@jupyter-widgets/base",
          "model_name": "LayoutModel",
          "model_module_version": "1.2.0",
          "state": {
            "_model_module": "@jupyter-widgets/base",
            "_model_module_version": "1.2.0",
            "_model_name": "LayoutModel",
            "_view_count": null,
            "_view_module": "@jupyter-widgets/base",
            "_view_module_version": "1.2.0",
            "_view_name": "LayoutView",
            "align_content": null,
            "align_items": null,
            "align_self": null,
            "border": null,
            "bottom": null,
            "display": null,
            "flex": null,
            "flex_flow": null,
            "grid_area": null,
            "grid_auto_columns": null,
            "grid_auto_flow": null,
            "grid_auto_rows": null,
            "grid_column": null,
            "grid_gap": null,
            "grid_row": null,
            "grid_template_areas": null,
            "grid_template_columns": null,
            "grid_template_rows": null,
            "height": null,
            "justify_content": null,
            "justify_items": null,
            "left": null,
            "margin": null,
            "max_height": null,
            "max_width": null,
            "min_height": null,
            "min_width": null,
            "object_fit": null,
            "object_position": null,
            "order": null,
            "overflow": null,
            "overflow_x": null,
            "overflow_y": null,
            "padding": null,
            "right": null,
            "top": null,
            "visibility": null,
            "width": null
          }
        },
        "48a79a0b78944e6c9b76d5ac7bd5e63a": {
          "model_module": "@jupyter-widgets/controls",
          "model_name": "DescriptionStyleModel",
          "model_module_version": "1.5.0",
          "state": {
            "_model_module": "@jupyter-widgets/controls",
            "_model_module_version": "1.5.0",
            "_model_name": "DescriptionStyleModel",
            "_view_count": null,
            "_view_module": "@jupyter-widgets/base",
            "_view_module_version": "1.2.0",
            "_view_name": "StyleView",
            "description_width": ""
          }
        },
        "923e56cfa40b4d7497e949f774543c4f": {
          "model_module": "@jupyter-widgets/controls",
          "model_name": "HBoxModel",
          "model_module_version": "1.5.0",
          "state": {
            "_dom_classes": [],
            "_model_module": "@jupyter-widgets/controls",
            "_model_module_version": "1.5.0",
            "_model_name": "HBoxModel",
            "_view_count": null,
            "_view_module": "@jupyter-widgets/controls",
            "_view_module_version": "1.5.0",
            "_view_name": "HBoxView",
            "box_style": "",
            "children": [
              "IPY_MODEL_963bee39837f4c78809c0eae48444a58",
              "IPY_MODEL_bd6f9d9d52a24a3d81b3adf78851f1da",
              "IPY_MODEL_937e36d294044add892d8c5c312745f1"
            ],
            "layout": "IPY_MODEL_924f2ac721ae4dc1992be020150f08e0"
          }
        },
        "963bee39837f4c78809c0eae48444a58": {
          "model_module": "@jupyter-widgets/controls",
          "model_name": "HTMLModel",
          "model_module_version": "1.5.0",
          "state": {
            "_dom_classes": [],
            "_model_module": "@jupyter-widgets/controls",
            "_model_module_version": "1.5.0",
            "_model_name": "HTMLModel",
            "_view_count": null,
            "_view_module": "@jupyter-widgets/controls",
            "_view_module_version": "1.5.0",
            "_view_name": "HTMLView",
            "description": "",
            "description_tooltip": null,
            "layout": "IPY_MODEL_33178622dccf4310a8b39a7b0933c00b",
            "placeholder": "​",
            "style": "IPY_MODEL_a88c6bdbe2074c6dbc092c495127923a",
            "value": ""
          }
        },
        "bd6f9d9d52a24a3d81b3adf78851f1da": {
          "model_module": "@jupyter-widgets/controls",
          "model_name": "FloatProgressModel",
          "model_module_version": "1.5.0",
          "state": {
            "_dom_classes": [],
            "_model_module": "@jupyter-widgets/controls",
            "_model_module_version": "1.5.0",
            "_model_name": "FloatProgressModel",
            "_view_count": null,
            "_view_module": "@jupyter-widgets/controls",
            "_view_module_version": "1.5.0",
            "_view_name": "ProgressView",
            "bar_style": "success",
            "description": "",
            "description_tooltip": null,
            "layout": "IPY_MODEL_7769c7b4431b463383dc3fe3a4db2a3e",
            "max": 29515,
            "min": 0,
            "orientation": "horizontal",
            "style": "IPY_MODEL_0939809114d34acaac72e8120360f4b2",
            "value": 29515
          }
        },
        "937e36d294044add892d8c5c312745f1": {
          "model_module": "@jupyter-widgets/controls",
          "model_name": "HTMLModel",
          "model_module_version": "1.5.0",
          "state": {
            "_dom_classes": [],
            "_model_module": "@jupyter-widgets/controls",
            "_model_module_version": "1.5.0",
            "_model_name": "HTMLModel",
            "_view_count": null,
            "_view_module": "@jupyter-widgets/controls",
            "_view_module_version": "1.5.0",
            "_view_name": "HTMLView",
            "description": "",
            "description_tooltip": null,
            "layout": "IPY_MODEL_1345de2f2b6c468cad6d1176e0462dde",
            "placeholder": "​",
            "style": "IPY_MODEL_a99f607fbc3740e4b2fa163b1274cd80",
            "value": " 29696/? [00:00&lt;00:00, 103047.48it/s]"
          }
        },
        "924f2ac721ae4dc1992be020150f08e0": {
          "model_module": "@jupyter-widgets/base",
          "model_name": "LayoutModel",
          "model_module_version": "1.2.0",
          "state": {
            "_model_module": "@jupyter-widgets/base",
            "_model_module_version": "1.2.0",
            "_model_name": "LayoutModel",
            "_view_count": null,
            "_view_module": "@jupyter-widgets/base",
            "_view_module_version": "1.2.0",
            "_view_name": "LayoutView",
            "align_content": null,
            "align_items": null,
            "align_self": null,
            "border": null,
            "bottom": null,
            "display": null,
            "flex": null,
            "flex_flow": null,
            "grid_area": null,
            "grid_auto_columns": null,
            "grid_auto_flow": null,
            "grid_auto_rows": null,
            "grid_column": null,
            "grid_gap": null,
            "grid_row": null,
            "grid_template_areas": null,
            "grid_template_columns": null,
            "grid_template_rows": null,
            "height": null,
            "justify_content": null,
            "justify_items": null,
            "left": null,
            "margin": null,
            "max_height": null,
            "max_width": null,
            "min_height": null,
            "min_width": null,
            "object_fit": null,
            "object_position": null,
            "order": null,
            "overflow": null,
            "overflow_x": null,
            "overflow_y": null,
            "padding": null,
            "right": null,
            "top": null,
            "visibility": null,
            "width": null
          }
        },
        "33178622dccf4310a8b39a7b0933c00b": {
          "model_module": "@jupyter-widgets/base",
          "model_name": "LayoutModel",
          "model_module_version": "1.2.0",
          "state": {
            "_model_module": "@jupyter-widgets/base",
            "_model_module_version": "1.2.0",
            "_model_name": "LayoutModel",
            "_view_count": null,
            "_view_module": "@jupyter-widgets/base",
            "_view_module_version": "1.2.0",
            "_view_name": "LayoutView",
            "align_content": null,
            "align_items": null,
            "align_self": null,
            "border": null,
            "bottom": null,
            "display": null,
            "flex": null,
            "flex_flow": null,
            "grid_area": null,
            "grid_auto_columns": null,
            "grid_auto_flow": null,
            "grid_auto_rows": null,
            "grid_column": null,
            "grid_gap": null,
            "grid_row": null,
            "grid_template_areas": null,
            "grid_template_columns": null,
            "grid_template_rows": null,
            "height": null,
            "justify_content": null,
            "justify_items": null,
            "left": null,
            "margin": null,
            "max_height": null,
            "max_width": null,
            "min_height": null,
            "min_width": null,
            "object_fit": null,
            "object_position": null,
            "order": null,
            "overflow": null,
            "overflow_x": null,
            "overflow_y": null,
            "padding": null,
            "right": null,
            "top": null,
            "visibility": null,
            "width": null
          }
        },
        "a88c6bdbe2074c6dbc092c495127923a": {
          "model_module": "@jupyter-widgets/controls",
          "model_name": "DescriptionStyleModel",
          "model_module_version": "1.5.0",
          "state": {
            "_model_module": "@jupyter-widgets/controls",
            "_model_module_version": "1.5.0",
            "_model_name": "DescriptionStyleModel",
            "_view_count": null,
            "_view_module": "@jupyter-widgets/base",
            "_view_module_version": "1.2.0",
            "_view_name": "StyleView",
            "description_width": ""
          }
        },
        "7769c7b4431b463383dc3fe3a4db2a3e": {
          "model_module": "@jupyter-widgets/base",
          "model_name": "LayoutModel",
          "model_module_version": "1.2.0",
          "state": {
            "_model_module": "@jupyter-widgets/base",
            "_model_module_version": "1.2.0",
            "_model_name": "LayoutModel",
            "_view_count": null,
            "_view_module": "@jupyter-widgets/base",
            "_view_module_version": "1.2.0",
            "_view_name": "LayoutView",
            "align_content": null,
            "align_items": null,
            "align_self": null,
            "border": null,
            "bottom": null,
            "display": null,
            "flex": null,
            "flex_flow": null,
            "grid_area": null,
            "grid_auto_columns": null,
            "grid_auto_flow": null,
            "grid_auto_rows": null,
            "grid_column": null,
            "grid_gap": null,
            "grid_row": null,
            "grid_template_areas": null,
            "grid_template_columns": null,
            "grid_template_rows": null,
            "height": null,
            "justify_content": null,
            "justify_items": null,
            "left": null,
            "margin": null,
            "max_height": null,
            "max_width": null,
            "min_height": null,
            "min_width": null,
            "object_fit": null,
            "object_position": null,
            "order": null,
            "overflow": null,
            "overflow_x": null,
            "overflow_y": null,
            "padding": null,
            "right": null,
            "top": null,
            "visibility": null,
            "width": null
          }
        },
        "0939809114d34acaac72e8120360f4b2": {
          "model_module": "@jupyter-widgets/controls",
          "model_name": "ProgressStyleModel",
          "model_module_version": "1.5.0",
          "state": {
            "_model_module": "@jupyter-widgets/controls",
            "_model_module_version": "1.5.0",
            "_model_name": "ProgressStyleModel",
            "_view_count": null,
            "_view_module": "@jupyter-widgets/base",
            "_view_module_version": "1.2.0",
            "_view_name": "StyleView",
            "bar_color": null,
            "description_width": ""
          }
        },
        "1345de2f2b6c468cad6d1176e0462dde": {
          "model_module": "@jupyter-widgets/base",
          "model_name": "LayoutModel",
          "model_module_version": "1.2.0",
          "state": {
            "_model_module": "@jupyter-widgets/base",
            "_model_module_version": "1.2.0",
            "_model_name": "LayoutModel",
            "_view_count": null,
            "_view_module": "@jupyter-widgets/base",
            "_view_module_version": "1.2.0",
            "_view_name": "LayoutView",
            "align_content": null,
            "align_items": null,
            "align_self": null,
            "border": null,
            "bottom": null,
            "display": null,
            "flex": null,
            "flex_flow": null,
            "grid_area": null,
            "grid_auto_columns": null,
            "grid_auto_flow": null,
            "grid_auto_rows": null,
            "grid_column": null,
            "grid_gap": null,
            "grid_row": null,
            "grid_template_areas": null,
            "grid_template_columns": null,
            "grid_template_rows": null,
            "height": null,
            "justify_content": null,
            "justify_items": null,
            "left": null,
            "margin": null,
            "max_height": null,
            "max_width": null,
            "min_height": null,
            "min_width": null,
            "object_fit": null,
            "object_position": null,
            "order": null,
            "overflow": null,
            "overflow_x": null,
            "overflow_y": null,
            "padding": null,
            "right": null,
            "top": null,
            "visibility": null,
            "width": null
          }
        },
        "a99f607fbc3740e4b2fa163b1274cd80": {
          "model_module": "@jupyter-widgets/controls",
          "model_name": "DescriptionStyleModel",
          "model_module_version": "1.5.0",
          "state": {
            "_model_module": "@jupyter-widgets/controls",
            "_model_module_version": "1.5.0",
            "_model_name": "DescriptionStyleModel",
            "_view_count": null,
            "_view_module": "@jupyter-widgets/base",
            "_view_module_version": "1.2.0",
            "_view_name": "StyleView",
            "description_width": ""
          }
        },
        "2bc476fda45f479f8211bb1af7588cec": {
          "model_module": "@jupyter-widgets/controls",
          "model_name": "HBoxModel",
          "model_module_version": "1.5.0",
          "state": {
            "_dom_classes": [],
            "_model_module": "@jupyter-widgets/controls",
            "_model_module_version": "1.5.0",
            "_model_name": "HBoxModel",
            "_view_count": null,
            "_view_module": "@jupyter-widgets/controls",
            "_view_module_version": "1.5.0",
            "_view_name": "HBoxView",
            "box_style": "",
            "children": [
              "IPY_MODEL_3066c1fcdf9949dbbd46f45862896fe0",
              "IPY_MODEL_c8625c543fb245439d6b04aaf199bd2a",
              "IPY_MODEL_d420aea89c764deb89f7f9f6ace9a471"
            ],
            "layout": "IPY_MODEL_92f1174da895423c8b788390e5e49f14"
          }
        },
        "3066c1fcdf9949dbbd46f45862896fe0": {
          "model_module": "@jupyter-widgets/controls",
          "model_name": "HTMLModel",
          "model_module_version": "1.5.0",
          "state": {
            "_dom_classes": [],
            "_model_module": "@jupyter-widgets/controls",
            "_model_module_version": "1.5.0",
            "_model_name": "HTMLModel",
            "_view_count": null,
            "_view_module": "@jupyter-widgets/controls",
            "_view_module_version": "1.5.0",
            "_view_name": "HTMLView",
            "description": "",
            "description_tooltip": null,
            "layout": "IPY_MODEL_1f171e3f9a4f4f0cbbd5c82884e7c8cd",
            "placeholder": "​",
            "style": "IPY_MODEL_76fd21e3e40642cdbd5a108e0cfc8d7c",
            "value": ""
          }
        },
        "c8625c543fb245439d6b04aaf199bd2a": {
          "model_module": "@jupyter-widgets/controls",
          "model_name": "FloatProgressModel",
          "model_module_version": "1.5.0",
          "state": {
            "_dom_classes": [],
            "_model_module": "@jupyter-widgets/controls",
            "_model_module_version": "1.5.0",
            "_model_name": "FloatProgressModel",
            "_view_count": null,
            "_view_module": "@jupyter-widgets/controls",
            "_view_module_version": "1.5.0",
            "_view_name": "ProgressView",
            "bar_style": "success",
            "description": "",
            "description_tooltip": null,
            "layout": "IPY_MODEL_6837e0bfce93481d870bf13c1c06ecab",
            "max": 4422102,
            "min": 0,
            "orientation": "horizontal",
            "style": "IPY_MODEL_cb8efa7a975c4bba89e1800d92e96191",
            "value": 4422102
          }
        },
        "d420aea89c764deb89f7f9f6ace9a471": {
          "model_module": "@jupyter-widgets/controls",
          "model_name": "HTMLModel",
          "model_module_version": "1.5.0",
          "state": {
            "_dom_classes": [],
            "_model_module": "@jupyter-widgets/controls",
            "_model_module_version": "1.5.0",
            "_model_name": "HTMLModel",
            "_view_count": null,
            "_view_module": "@jupyter-widgets/controls",
            "_view_module_version": "1.5.0",
            "_view_name": "HTMLView",
            "description": "",
            "description_tooltip": null,
            "layout": "IPY_MODEL_9917449f76ac47f083f8ba45ae4439ad",
            "placeholder": "​",
            "style": "IPY_MODEL_e7632484a00448c789175f60499da1cc",
            "value": " 4422656/? [00:01&lt;00:00, 6589291.65it/s]"
          }
        },
        "92f1174da895423c8b788390e5e49f14": {
          "model_module": "@jupyter-widgets/base",
          "model_name": "LayoutModel",
          "model_module_version": "1.2.0",
          "state": {
            "_model_module": "@jupyter-widgets/base",
            "_model_module_version": "1.2.0",
            "_model_name": "LayoutModel",
            "_view_count": null,
            "_view_module": "@jupyter-widgets/base",
            "_view_module_version": "1.2.0",
            "_view_name": "LayoutView",
            "align_content": null,
            "align_items": null,
            "align_self": null,
            "border": null,
            "bottom": null,
            "display": null,
            "flex": null,
            "flex_flow": null,
            "grid_area": null,
            "grid_auto_columns": null,
            "grid_auto_flow": null,
            "grid_auto_rows": null,
            "grid_column": null,
            "grid_gap": null,
            "grid_row": null,
            "grid_template_areas": null,
            "grid_template_columns": null,
            "grid_template_rows": null,
            "height": null,
            "justify_content": null,
            "justify_items": null,
            "left": null,
            "margin": null,
            "max_height": null,
            "max_width": null,
            "min_height": null,
            "min_width": null,
            "object_fit": null,
            "object_position": null,
            "order": null,
            "overflow": null,
            "overflow_x": null,
            "overflow_y": null,
            "padding": null,
            "right": null,
            "top": null,
            "visibility": null,
            "width": null
          }
        },
        "1f171e3f9a4f4f0cbbd5c82884e7c8cd": {
          "model_module": "@jupyter-widgets/base",
          "model_name": "LayoutModel",
          "model_module_version": "1.2.0",
          "state": {
            "_model_module": "@jupyter-widgets/base",
            "_model_module_version": "1.2.0",
            "_model_name": "LayoutModel",
            "_view_count": null,
            "_view_module": "@jupyter-widgets/base",
            "_view_module_version": "1.2.0",
            "_view_name": "LayoutView",
            "align_content": null,
            "align_items": null,
            "align_self": null,
            "border": null,
            "bottom": null,
            "display": null,
            "flex": null,
            "flex_flow": null,
            "grid_area": null,
            "grid_auto_columns": null,
            "grid_auto_flow": null,
            "grid_auto_rows": null,
            "grid_column": null,
            "grid_gap": null,
            "grid_row": null,
            "grid_template_areas": null,
            "grid_template_columns": null,
            "grid_template_rows": null,
            "height": null,
            "justify_content": null,
            "justify_items": null,
            "left": null,
            "margin": null,
            "max_height": null,
            "max_width": null,
            "min_height": null,
            "min_width": null,
            "object_fit": null,
            "object_position": null,
            "order": null,
            "overflow": null,
            "overflow_x": null,
            "overflow_y": null,
            "padding": null,
            "right": null,
            "top": null,
            "visibility": null,
            "width": null
          }
        },
        "76fd21e3e40642cdbd5a108e0cfc8d7c": {
          "model_module": "@jupyter-widgets/controls",
          "model_name": "DescriptionStyleModel",
          "model_module_version": "1.5.0",
          "state": {
            "_model_module": "@jupyter-widgets/controls",
            "_model_module_version": "1.5.0",
            "_model_name": "DescriptionStyleModel",
            "_view_count": null,
            "_view_module": "@jupyter-widgets/base",
            "_view_module_version": "1.2.0",
            "_view_name": "StyleView",
            "description_width": ""
          }
        },
        "6837e0bfce93481d870bf13c1c06ecab": {
          "model_module": "@jupyter-widgets/base",
          "model_name": "LayoutModel",
          "model_module_version": "1.2.0",
          "state": {
            "_model_module": "@jupyter-widgets/base",
            "_model_module_version": "1.2.0",
            "_model_name": "LayoutModel",
            "_view_count": null,
            "_view_module": "@jupyter-widgets/base",
            "_view_module_version": "1.2.0",
            "_view_name": "LayoutView",
            "align_content": null,
            "align_items": null,
            "align_self": null,
            "border": null,
            "bottom": null,
            "display": null,
            "flex": null,
            "flex_flow": null,
            "grid_area": null,
            "grid_auto_columns": null,
            "grid_auto_flow": null,
            "grid_auto_rows": null,
            "grid_column": null,
            "grid_gap": null,
            "grid_row": null,
            "grid_template_areas": null,
            "grid_template_columns": null,
            "grid_template_rows": null,
            "height": null,
            "justify_content": null,
            "justify_items": null,
            "left": null,
            "margin": null,
            "max_height": null,
            "max_width": null,
            "min_height": null,
            "min_width": null,
            "object_fit": null,
            "object_position": null,
            "order": null,
            "overflow": null,
            "overflow_x": null,
            "overflow_y": null,
            "padding": null,
            "right": null,
            "top": null,
            "visibility": null,
            "width": null
          }
        },
        "cb8efa7a975c4bba89e1800d92e96191": {
          "model_module": "@jupyter-widgets/controls",
          "model_name": "ProgressStyleModel",
          "model_module_version": "1.5.0",
          "state": {
            "_model_module": "@jupyter-widgets/controls",
            "_model_module_version": "1.5.0",
            "_model_name": "ProgressStyleModel",
            "_view_count": null,
            "_view_module": "@jupyter-widgets/base",
            "_view_module_version": "1.2.0",
            "_view_name": "StyleView",
            "bar_color": null,
            "description_width": ""
          }
        },
        "9917449f76ac47f083f8ba45ae4439ad": {
          "model_module": "@jupyter-widgets/base",
          "model_name": "LayoutModel",
          "model_module_version": "1.2.0",
          "state": {
            "_model_module": "@jupyter-widgets/base",
            "_model_module_version": "1.2.0",
            "_model_name": "LayoutModel",
            "_view_count": null,
            "_view_module": "@jupyter-widgets/base",
            "_view_module_version": "1.2.0",
            "_view_name": "LayoutView",
            "align_content": null,
            "align_items": null,
            "align_self": null,
            "border": null,
            "bottom": null,
            "display": null,
            "flex": null,
            "flex_flow": null,
            "grid_area": null,
            "grid_auto_columns": null,
            "grid_auto_flow": null,
            "grid_auto_rows": null,
            "grid_column": null,
            "grid_gap": null,
            "grid_row": null,
            "grid_template_areas": null,
            "grid_template_columns": null,
            "grid_template_rows": null,
            "height": null,
            "justify_content": null,
            "justify_items": null,
            "left": null,
            "margin": null,
            "max_height": null,
            "max_width": null,
            "min_height": null,
            "min_width": null,
            "object_fit": null,
            "object_position": null,
            "order": null,
            "overflow": null,
            "overflow_x": null,
            "overflow_y": null,
            "padding": null,
            "right": null,
            "top": null,
            "visibility": null,
            "width": null
          }
        },
        "e7632484a00448c789175f60499da1cc": {
          "model_module": "@jupyter-widgets/controls",
          "model_name": "DescriptionStyleModel",
          "model_module_version": "1.5.0",
          "state": {
            "_model_module": "@jupyter-widgets/controls",
            "_model_module_version": "1.5.0",
            "_model_name": "DescriptionStyleModel",
            "_view_count": null,
            "_view_module": "@jupyter-widgets/base",
            "_view_module_version": "1.2.0",
            "_view_name": "StyleView",
            "description_width": ""
          }
        },
        "aa82eec5dc534f998a46151992162eab": {
          "model_module": "@jupyter-widgets/controls",
          "model_name": "HBoxModel",
          "model_module_version": "1.5.0",
          "state": {
            "_dom_classes": [],
            "_model_module": "@jupyter-widgets/controls",
            "_model_module_version": "1.5.0",
            "_model_name": "HBoxModel",
            "_view_count": null,
            "_view_module": "@jupyter-widgets/controls",
            "_view_module_version": "1.5.0",
            "_view_name": "HBoxView",
            "box_style": "",
            "children": [
              "IPY_MODEL_0e2a3fd8bc914dc092d9d17b89ea9731",
              "IPY_MODEL_2c79c1bda8c04b54819536aaaed5fb92",
              "IPY_MODEL_98cad49354ed40a0a22971846c2f3e5d"
            ],
            "layout": "IPY_MODEL_dffeeef3477648159bf33c66636ccf7c"
          }
        },
        "0e2a3fd8bc914dc092d9d17b89ea9731": {
          "model_module": "@jupyter-widgets/controls",
          "model_name": "HTMLModel",
          "model_module_version": "1.5.0",
          "state": {
            "_dom_classes": [],
            "_model_module": "@jupyter-widgets/controls",
            "_model_module_version": "1.5.0",
            "_model_name": "HTMLModel",
            "_view_count": null,
            "_view_module": "@jupyter-widgets/controls",
            "_view_module_version": "1.5.0",
            "_view_name": "HTMLView",
            "description": "",
            "description_tooltip": null,
            "layout": "IPY_MODEL_6116be64aa164986909763521de263d8",
            "placeholder": "​",
            "style": "IPY_MODEL_0c1c82b21b35401b8843cd1a7892e196",
            "value": ""
          }
        },
        "2c79c1bda8c04b54819536aaaed5fb92": {
          "model_module": "@jupyter-widgets/controls",
          "model_name": "FloatProgressModel",
          "model_module_version": "1.5.0",
          "state": {
            "_dom_classes": [],
            "_model_module": "@jupyter-widgets/controls",
            "_model_module_version": "1.5.0",
            "_model_name": "FloatProgressModel",
            "_view_count": null,
            "_view_module": "@jupyter-widgets/controls",
            "_view_module_version": "1.5.0",
            "_view_name": "ProgressView",
            "bar_style": "success",
            "description": "",
            "description_tooltip": null,
            "layout": "IPY_MODEL_9cdd91c9690245fd8b2befbeef01003b",
            "max": 5148,
            "min": 0,
            "orientation": "horizontal",
            "style": "IPY_MODEL_e38aab48d05e421b96b421a980220c69",
            "value": 5148
          }
        },
        "98cad49354ed40a0a22971846c2f3e5d": {
          "model_module": "@jupyter-widgets/controls",
          "model_name": "HTMLModel",
          "model_module_version": "1.5.0",
          "state": {
            "_dom_classes": [],
            "_model_module": "@jupyter-widgets/controls",
            "_model_module_version": "1.5.0",
            "_model_name": "HTMLModel",
            "_view_count": null,
            "_view_module": "@jupyter-widgets/controls",
            "_view_module_version": "1.5.0",
            "_view_name": "HTMLView",
            "description": "",
            "description_tooltip": null,
            "layout": "IPY_MODEL_76244180a2bc4532b38630ebf8e65006",
            "placeholder": "​",
            "style": "IPY_MODEL_a0a05b72084d4bcbb5d3e9e280224020",
            "value": " 6144/? [00:00&lt;00:00, 232993.71it/s]"
          }
        },
        "dffeeef3477648159bf33c66636ccf7c": {
          "model_module": "@jupyter-widgets/base",
          "model_name": "LayoutModel",
          "model_module_version": "1.2.0",
          "state": {
            "_model_module": "@jupyter-widgets/base",
            "_model_module_version": "1.2.0",
            "_model_name": "LayoutModel",
            "_view_count": null,
            "_view_module": "@jupyter-widgets/base",
            "_view_module_version": "1.2.0",
            "_view_name": "LayoutView",
            "align_content": null,
            "align_items": null,
            "align_self": null,
            "border": null,
            "bottom": null,
            "display": null,
            "flex": null,
            "flex_flow": null,
            "grid_area": null,
            "grid_auto_columns": null,
            "grid_auto_flow": null,
            "grid_auto_rows": null,
            "grid_column": null,
            "grid_gap": null,
            "grid_row": null,
            "grid_template_areas": null,
            "grid_template_columns": null,
            "grid_template_rows": null,
            "height": null,
            "justify_content": null,
            "justify_items": null,
            "left": null,
            "margin": null,
            "max_height": null,
            "max_width": null,
            "min_height": null,
            "min_width": null,
            "object_fit": null,
            "object_position": null,
            "order": null,
            "overflow": null,
            "overflow_x": null,
            "overflow_y": null,
            "padding": null,
            "right": null,
            "top": null,
            "visibility": null,
            "width": null
          }
        },
        "6116be64aa164986909763521de263d8": {
          "model_module": "@jupyter-widgets/base",
          "model_name": "LayoutModel",
          "model_module_version": "1.2.0",
          "state": {
            "_model_module": "@jupyter-widgets/base",
            "_model_module_version": "1.2.0",
            "_model_name": "LayoutModel",
            "_view_count": null,
            "_view_module": "@jupyter-widgets/base",
            "_view_module_version": "1.2.0",
            "_view_name": "LayoutView",
            "align_content": null,
            "align_items": null,
            "align_self": null,
            "border": null,
            "bottom": null,
            "display": null,
            "flex": null,
            "flex_flow": null,
            "grid_area": null,
            "grid_auto_columns": null,
            "grid_auto_flow": null,
            "grid_auto_rows": null,
            "grid_column": null,
            "grid_gap": null,
            "grid_row": null,
            "grid_template_areas": null,
            "grid_template_columns": null,
            "grid_template_rows": null,
            "height": null,
            "justify_content": null,
            "justify_items": null,
            "left": null,
            "margin": null,
            "max_height": null,
            "max_width": null,
            "min_height": null,
            "min_width": null,
            "object_fit": null,
            "object_position": null,
            "order": null,
            "overflow": null,
            "overflow_x": null,
            "overflow_y": null,
            "padding": null,
            "right": null,
            "top": null,
            "visibility": null,
            "width": null
          }
        },
        "0c1c82b21b35401b8843cd1a7892e196": {
          "model_module": "@jupyter-widgets/controls",
          "model_name": "DescriptionStyleModel",
          "model_module_version": "1.5.0",
          "state": {
            "_model_module": "@jupyter-widgets/controls",
            "_model_module_version": "1.5.0",
            "_model_name": "DescriptionStyleModel",
            "_view_count": null,
            "_view_module": "@jupyter-widgets/base",
            "_view_module_version": "1.2.0",
            "_view_name": "StyleView",
            "description_width": ""
          }
        },
        "9cdd91c9690245fd8b2befbeef01003b": {
          "model_module": "@jupyter-widgets/base",
          "model_name": "LayoutModel",
          "model_module_version": "1.2.0",
          "state": {
            "_model_module": "@jupyter-widgets/base",
            "_model_module_version": "1.2.0",
            "_model_name": "LayoutModel",
            "_view_count": null,
            "_view_module": "@jupyter-widgets/base",
            "_view_module_version": "1.2.0",
            "_view_name": "LayoutView",
            "align_content": null,
            "align_items": null,
            "align_self": null,
            "border": null,
            "bottom": null,
            "display": null,
            "flex": null,
            "flex_flow": null,
            "grid_area": null,
            "grid_auto_columns": null,
            "grid_auto_flow": null,
            "grid_auto_rows": null,
            "grid_column": null,
            "grid_gap": null,
            "grid_row": null,
            "grid_template_areas": null,
            "grid_template_columns": null,
            "grid_template_rows": null,
            "height": null,
            "justify_content": null,
            "justify_items": null,
            "left": null,
            "margin": null,
            "max_height": null,
            "max_width": null,
            "min_height": null,
            "min_width": null,
            "object_fit": null,
            "object_position": null,
            "order": null,
            "overflow": null,
            "overflow_x": null,
            "overflow_y": null,
            "padding": null,
            "right": null,
            "top": null,
            "visibility": null,
            "width": null
          }
        },
        "e38aab48d05e421b96b421a980220c69": {
          "model_module": "@jupyter-widgets/controls",
          "model_name": "ProgressStyleModel",
          "model_module_version": "1.5.0",
          "state": {
            "_model_module": "@jupyter-widgets/controls",
            "_model_module_version": "1.5.0",
            "_model_name": "ProgressStyleModel",
            "_view_count": null,
            "_view_module": "@jupyter-widgets/base",
            "_view_module_version": "1.2.0",
            "_view_name": "StyleView",
            "bar_color": null,
            "description_width": ""
          }
        },
        "76244180a2bc4532b38630ebf8e65006": {
          "model_module": "@jupyter-widgets/base",
          "model_name": "LayoutModel",
          "model_module_version": "1.2.0",
          "state": {
            "_model_module": "@jupyter-widgets/base",
            "_model_module_version": "1.2.0",
            "_model_name": "LayoutModel",
            "_view_count": null,
            "_view_module": "@jupyter-widgets/base",
            "_view_module_version": "1.2.0",
            "_view_name": "LayoutView",
            "align_content": null,
            "align_items": null,
            "align_self": null,
            "border": null,
            "bottom": null,
            "display": null,
            "flex": null,
            "flex_flow": null,
            "grid_area": null,
            "grid_auto_columns": null,
            "grid_auto_flow": null,
            "grid_auto_rows": null,
            "grid_column": null,
            "grid_gap": null,
            "grid_row": null,
            "grid_template_areas": null,
            "grid_template_columns": null,
            "grid_template_rows": null,
            "height": null,
            "justify_content": null,
            "justify_items": null,
            "left": null,
            "margin": null,
            "max_height": null,
            "max_width": null,
            "min_height": null,
            "min_width": null,
            "object_fit": null,
            "object_position": null,
            "order": null,
            "overflow": null,
            "overflow_x": null,
            "overflow_y": null,
            "padding": null,
            "right": null,
            "top": null,
            "visibility": null,
            "width": null
          }
        },
        "a0a05b72084d4bcbb5d3e9e280224020": {
          "model_module": "@jupyter-widgets/controls",
          "model_name": "DescriptionStyleModel",
          "model_module_version": "1.5.0",
          "state": {
            "_model_module": "@jupyter-widgets/controls",
            "_model_module_version": "1.5.0",
            "_model_name": "DescriptionStyleModel",
            "_view_count": null,
            "_view_module": "@jupyter-widgets/base",
            "_view_module_version": "1.2.0",
            "_view_name": "StyleView",
            "description_width": ""
          }
        }
      }
    }
  },
  "cells": [
    {
      "cell_type": "markdown",
      "metadata": {
        "id": "view-in-github",
        "colab_type": "text"
      },
      "source": [
        "<a href=\"https://colab.research.google.com/github/owemecoffee/new-story/blob/main/deeplizard_pytorch.ipynb\" target=\"_parent\"><img src=\"https://colab.research.google.com/assets/colab-badge.svg\" alt=\"Open In Colab\"/></a>"
      ]
    },
    {
      "cell_type": "markdown",
      "source": [
        "# Welcome！ \n",
        "> This is a notebook wrote for [deeplizard tutorial](https://deeplizard.com/learn/video/v5cngxo4mIg). \n",
        "\n",
        "**Hope it helps you:-)**"
      ],
      "metadata": {
        "id": "zm3KCrvjA3aX"
      }
    },
    {
      "cell_type": "markdown",
      "source": [
        "# Intro to Pytorch\n",
        "\n",
        "*   it is a a deep learning framework and a scientific computing package. \n",
        "*   primarily a result PyTorch's tensor library and associated tensor operations.\n",
        "*   initially released in oct 2016. Same crew with Torch.\n",
        "*   maintained by Facebook.\n",
        "\n",
        "## Packages Needed\n",
        "*    modules and extensible classes for building neural networks.\n",
        "\n",
        "```\n",
        "# torch.nn\n",
        "```\n",
        "\n",
        "*  loss functions, activation functions, and convolution operations.\n",
        "\n",
        "\n",
        "```\n",
        "# torch.nn.functional\n",
        "```\n",
        "\n",
        "*  optimization operations like SGD, Adam\n",
        "\n",
        "\n",
        "```\n",
        "#  torch.optim\n",
        "```\n",
        "\n",
        "*  utility classes like data sets and data loaders that make data preprocessing easier.\n",
        "\n",
        "\n",
        "\n",
        "```\n",
        "# torch.utils\n",
        "```\n",
        "*  provides access to popular datasets, model architectures, and image transformations for computer vision.\n",
        "\n",
        "\n",
        "\n",
        "```\n",
        "# torchvision\n",
        "```\n",
        "\n",
        "## Why Use GPU\n",
        "*(Graphics Processing Unit, good at handling specialized computations.)*\n",
        "Neural network can very easily be broken into parallel computation, and GPU may afford thousands of PC at the same time. In compatision, CPU has only several cores.\n",
        "\n",
        "**But GPU can be slower tham CPU with division task time**\n",
        "\n",
        "\n",
        "## CUDA\n",
        "is a software developed by Nvidia, thus very well use the Nvidia GPU for acceleration.\n",
        "\n",
        "\n",
        "\n",
        "\n"
      ],
      "metadata": {
        "id": "JqSufb6NnEJU"
      }
    },
    {
      "cell_type": "code",
      "source": [
        "import torch\n",
        "import torchvision\n",
        "import torch.nn\n",
        "import torch.utils\n",
        "import torch.optim"
      ],
      "metadata": {
        "id": "u4q924R2vUMc"
      },
      "execution_count": 36,
      "outputs": []
    },
    {
      "cell_type": "markdown",
      "source": [
        "# Tensor\n",
        "\n",
        "*   A tensor is an n-dimensional array.\n",
        "*   A data structure used by neural network.\n",
        "*   general expression for :\n",
        "\n",
        "\n",
        "> A scalar is a 0 dimensional tensor                          \n",
        "> A vector is a 1 dimensional tensor                        \n",
        "> A matrix is a 2 dimensional tensor                               \n",
        "> A nd-array is an n dimensional tensor\n",
        "\n",
        "* has attributes like:\n",
        "\n",
        "> *   Rank: the number of dimensions present within the tensor. \n",
        "*   Axes: a specific dimension of a tensor.\n",
        "*   Shape:  the length of each axis of the tensor.\n",
        "*   stride: how the tensor is stored in memory.\n",
        "\n",
        "\n",
        "\n",
        "\n",
        "\n",
        "\n",
        "\n",
        "\n"
      ],
      "metadata": {
        "id": "vZuYtifOnUyh"
      }
    },
    {
      "cell_type": "code",
      "source": [
        "t = torch.tensor([[1,2,3],[4,5,6],[6,7,8],[9,10,11]])\n",
        "t"
      ],
      "metadata": {
        "colab": {
          "base_uri": "https://localhost:8080/"
        },
        "id": "0EdujqqqvOSr",
        "outputId": "72d8e4fd-1df5-46ec-ea30-04f87518c8df"
      },
      "execution_count": 37,
      "outputs": [
        {
          "output_type": "execute_result",
          "data": {
            "text/plain": [
              "tensor([[ 1,  2,  3],\n",
              "        [ 4,  5,  6],\n",
              "        [ 6,  7,  8],\n",
              "        [ 9, 10, 11]])"
            ]
          },
          "metadata": {},
          "execution_count": 37
        }
      ]
    },
    {
      "cell_type": "code",
      "source": [
        "t.shape"
      ],
      "metadata": {
        "colab": {
          "base_uri": "https://localhost:8080/"
        },
        "id": "0C4lZljZvq0o",
        "outputId": "1cc4218c-8bcb-44d9-f012-330fbbc3ec61"
      },
      "execution_count": 38,
      "outputs": [
        {
          "output_type": "execute_result",
          "data": {
            "text/plain": [
              "torch.Size([4, 3])"
            ]
          },
          "metadata": {},
          "execution_count": 38
        }
      ]
    },
    {
      "cell_type": "markdown",
      "source": [
        "Here we can see the tensor has 2 ranks, on the 1th axes, the length is 3. The shape is 4*3."
      ],
      "metadata": {
        "id": "0F2s1agsvzTp"
      }
    },
    {
      "cell_type": "markdown",
      "source": [
        "## Tensor Attributes and Operations\n",
        "* attributes:\n",
        ">torch.dtype         \n",
        "torch.device      \n",
        "torch.layout\n",
        "* creation ways:\n",
        "> torch.Tensor(data):type float,  constructor, copy\n",
        "> ** torch.tensor(data)** :  factory func, copy  \n",
        "> torch.as_tensor(data):  share  \n",
        "> torch.from_numpy(data): share\n",
        "* operations:\n",
        "> * reshape  \n",
        "> * Squeeze: removes the dimensions or axes that have a length of one.\n",
        "> * Unsqueeze: adds a dimension with a length of one.\n",
        ">* flatten： remove all of the dimensions except for one.\n",
        "> * concatenate\n",
        "> * stack : concatenate tensor on a new dimension\n",
        "> * boardcast: add scalars to higher dimensional tensors.\n",
        "> * sum, prod, mean, std: (dim=0) specify the dimension to do the operation.\n",
        "> * numel\n",
        ">* max, argmax: the maximum and its index\n",
        "\n"
      ],
      "metadata": {
        "id": "ykDLmycDncXI"
      }
    },
    {
      "cell_type": "code",
      "source": [
        "print(t.dtype)\n",
        "print(t.device)\n",
        "print(t.layout)"
      ],
      "metadata": {
        "colab": {
          "base_uri": "https://localhost:8080/"
        },
        "id": "o17v6Gb6xKzH",
        "outputId": "9e310cd8-8b01-4dd5-9c86-212992b51190"
      },
      "execution_count": 39,
      "outputs": [
        {
          "output_type": "stream",
          "name": "stdout",
          "text": [
            "torch.int64\n",
            "cpu\n",
            "torch.strided\n"
          ]
        }
      ]
    },
    {
      "cell_type": "code",
      "source": [
        "# change device to GPU\n",
        "device = torch.device('cuda')\n",
        "device"
      ],
      "metadata": {
        "colab": {
          "base_uri": "https://localhost:8080/"
        },
        "id": "vddXhC11xd2R",
        "outputId": "a208a591-0b13-4595-c0d6-e5c167aa600b"
      },
      "execution_count": 40,
      "outputs": [
        {
          "output_type": "execute_result",
          "data": {
            "text/plain": [
              "device(type='cuda')"
            ]
          },
          "metadata": {},
          "execution_count": 40
        }
      ]
    },
    {
      "cell_type": "code",
      "source": [
        "t"
      ],
      "metadata": {
        "colab": {
          "base_uri": "https://localhost:8080/"
        },
        "id": "p2SGfqO80p_E",
        "outputId": "c900cd71-dc8c-42b2-ddc0-a796212f8fa6"
      },
      "execution_count": 41,
      "outputs": [
        {
          "output_type": "execute_result",
          "data": {
            "text/plain": [
              "tensor([[ 1,  2,  3],\n",
              "        [ 4,  5,  6],\n",
              "        [ 6,  7,  8],\n",
              "        [ 9, 10, 11]])"
            ]
          },
          "metadata": {},
          "execution_count": 41
        }
      ]
    },
    {
      "cell_type": "code",
      "source": [
        "t + 1\n",
        "# broadcast"
      ],
      "metadata": {
        "colab": {
          "base_uri": "https://localhost:8080/"
        },
        "id": "Lz4MEZ4z0ryN",
        "outputId": "052f9fb4-fe1b-4e9a-d241-2354506e72f0"
      },
      "execution_count": 42,
      "outputs": [
        {
          "output_type": "execute_result",
          "data": {
            "text/plain": [
              "tensor([[ 2,  3,  4],\n",
              "        [ 5,  6,  7],\n",
              "        [ 7,  8,  9],\n",
              "        [10, 11, 12]])"
            ]
          },
          "metadata": {},
          "execution_count": 42
        }
      ]
    },
    {
      "cell_type": "markdown",
      "source": [
        "# Data and Processing\n",
        "\n",
        "\n",
        "*   typical CNN input has 4 ranks, which are  [Batch, Channels, Height, Width]\n",
        "\n"
      ],
      "metadata": {
        "id": "XJgUzFAbngMb"
      }
    },
    {
      "cell_type": "code",
      "source": [
        "import torchvision.transforms as transforms\n",
        "import numpy as np\n",
        "import matplotlib.pyplot as plt"
      ],
      "metadata": {
        "id": "b11YX6Db1y_0"
      },
      "execution_count": 43,
      "outputs": []
    },
    {
      "cell_type": "code",
      "source": [
        "#FashionMNIST dataset\n",
        "train_set = torchvision.datasets.FashionMNIST(\n",
        "    root='./data'\n",
        "    ,train=True\n",
        "    ,download=True\n",
        "    ,transform=transforms.Compose([\n",
        "        transforms.ToTensor() #turn to tensor\n",
        "    ])\n",
        ")"
      ],
      "metadata": {
        "id": "wr3oofD11zti"
      },
      "execution_count": 44,
      "outputs": []
    },
    {
      "cell_type": "code",
      "source": [
        "# load dataset\n",
        "train_loader = torch.utils.data.DataLoader(train_set\n",
        "    ,batch_size=10\n",
        "    ,shuffle=True\n",
        ")"
      ],
      "metadata": {
        "id": "KOEccEfA18GZ"
      },
      "execution_count": 45,
      "outputs": []
    },
    {
      "cell_type": "code",
      "source": [
        "print(\"The dataset has :\",len(train_set),\" items.\")\n",
        "print(\"With those \",np.unique(train_set.targets),\" targets.\")\n",
        "print(\"EAch class has \",train_set.targets.bincount(), \" items.\")"
      ],
      "metadata": {
        "colab": {
          "base_uri": "https://localhost:8080/"
        },
        "id": "RsoG9cpN1-87",
        "outputId": "7b23b00a-255c-4a8b-c966-2f51ad821abf"
      },
      "execution_count": 46,
      "outputs": [
        {
          "output_type": "stream",
          "name": "stdout",
          "text": [
            "The dataset has : 60000  items.\n",
            "With those  [0 1 2 3 4 5 6 7 8 9]  targets.\n",
            "EAch class has  tensor([6000, 6000, 6000, 6000, 6000, 6000, 6000, 6000, 6000, 6000])  items.\n"
          ]
        }
      ]
    },
    {
      "cell_type": "code",
      "source": [
        "#show one sample\n",
        "sample = next(iter(train_set))\n",
        "image, label = sample\n",
        "plt.imshow(image.squeeze(), cmap='gray')\n",
        "print(\"Label : \", label)"
      ],
      "metadata": {
        "colab": {
          "base_uri": "https://localhost:8080/",
          "height": 282
        },
        "id": "DZC5Dtnj3N7T",
        "outputId": "07e9bf36-9e8c-418f-f9ce-362431d32853"
      },
      "execution_count": 47,
      "outputs": [
        {
          "output_type": "stream",
          "name": "stdout",
          "text": [
            "Label :  9\n"
          ]
        },
        {
          "output_type": "display_data",
          "data": {
            "text/plain": [
              "<Figure size 432x288 with 1 Axes>"
            ],
            "image/png": "[encoded data removed]"
          },
          "metadata": {
            "needs_background": "light"
          }
        }
      ]
    },
    {
      "cell_type": "code",
      "source": [
        "#plot lots of items\n",
        "how_many_to_plot = 20\n",
        "\n",
        "train_loader = torch.utils.data.DataLoader(\n",
        "    train_set, batch_size=1, shuffle=True\n",
        ")\n",
        "#have the data reshuffled at every epoch\n",
        "\n",
        "plt.figure(figsize=(50,50))\n",
        "\n",
        "for i, batch in enumerate(train_loader, start=1):\n",
        "    image, label = batch\n",
        "    plt.subplot(10,10,i)\n",
        "    plt.imshow(image.reshape(28,28), cmap='gray')\n",
        "    plt.axis('off')\n",
        "    plt.title(train_set.classes[label.item()], fontsize=28)\n",
        "    if (i >= how_many_to_plot): break\n",
        "plt.show()"
      ],
      "metadata": {
        "colab": {
          "base_uri": "https://localhost:8080/",
          "height": 140
        },
        "id": "xXhSi3kz3w4u",
        "outputId": "509510d8-d2cd-48cd-af7e-22d5fd76d161"
      },
      "execution_count": 48,
      "outputs": [
        {
          "output_type": "display_data",
          "data": {
            "text/plain": [
              "<Figure size 3600x3600 with 20 Axes>"
            ],
            "image/png": "[encoded data removed]"
          },
          "metadata": {
            "needs_background": "light"
          }
        }
      ]
    },
    {
      "cell_type": "markdown",
      "source": [
        "# Neural Network"
      ],
      "metadata": {
        "id": "5Z2P-B_nnizr"
      }
    },
    {
      "cell_type": "code",
      "source": [
        "import torch.nn as nn"
      ],
      "metadata": {
        "id": "_9H5BvJn4mrN"
      },
      "execution_count": 49,
      "outputs": []
    },
    {
      "cell_type": "code",
      "source": [
        "class Network(nn.Module): # 继承nn.module\n",
        "    def __init__(self):\n",
        "        super(Network, self).__init__()\n",
        "        #2 conv layers\n",
        "        self.conv1 = nn.Conv2d(in_channels=1, out_channels=6, kernel_size=5) # inchannel decided by dataset\n",
        "        self.conv2 = nn.Conv2d(in_channels=6, out_channels=12,kernel_size=5)\n",
        "        #3 linear layers\n",
        "        self.fc1 = nn.Linear(in_features = 12*4*4, out_features=120) # 卷积核4*4\n",
        "        self.fc2 = nn.Linear(in_features= 120, out_features =60)# 互相依赖\n",
        "        self.out = nn.Linear(in_features=60, out_features=10) # out channel decided by dataset\n",
        "\n",
        "    def forward(self, t):#相当于一个很多组合的函数\n",
        "      #input layer\n",
        "      t=t\n",
        "\n",
        "      #hidden conv 1 layer\n",
        "      t = self.conv1(t)\n",
        "      t = F.relu(t)\n",
        "      t = F.max_pool2d(t,kernel_size=2,stride=2)\n",
        "\n",
        "      #hidden conv 2 layer\n",
        "      t = self.conv2(t)\n",
        "      t = F.relu(t)\n",
        "      t = F.max_pool2d(t,kernel_size=2, stride=2)\n",
        "\n",
        "      #hidden linear 1 layer\n",
        "      t = t.reshape(-1,12*4*4) # 4*4是连接池化后的情况\n",
        "      t = self.fc1(t)\n",
        "      t = F.relu(t)\n",
        "\n",
        "      #hidden linear 1 layer\n",
        "      t = self.fc2(t)\n",
        "      t = F.relu(t)\n",
        "\n",
        "      #output layer\n",
        "      t = self.out(t)\n",
        "      t = F.softmax(t,dim=1)\n",
        "\n",
        "      return t"
      ],
      "metadata": {
        "id": "0ObBh_Ph4one"
      },
      "execution_count": 50,
      "outputs": []
    },
    {
      "cell_type": "code",
      "source": [
        "network = Network()\n",
        "network"
      ],
      "metadata": {
        "colab": {
          "base_uri": "https://localhost:8080/"
        },
        "id": "_bgabLKr4tDC",
        "outputId": "4edff145-f528-4a07-ccad-a6f3b3688037"
      },
      "execution_count": 51,
      "outputs": [
        {
          "output_type": "execute_result",
          "data": {
            "text/plain": [
              "Network(\n",
              "  (conv1): Conv2d(1, 6, kernel_size=(5, 5), stride=(1, 1))\n",
              "  (conv2): Conv2d(6, 12, kernel_size=(5, 5), stride=(1, 1))\n",
              "  (fc1): Linear(in_features=192, out_features=120, bias=True)\n",
              "  (fc2): Linear(in_features=120, out_features=60, bias=True)\n",
              "  (out): Linear(in_features=60, out_features=10, bias=True)\n",
              ")"
            ]
          },
          "metadata": {},
          "execution_count": 51
        }
      ]
    },
    {
      "cell_type": "code",
      "source": [
        "print(network.conv1.weight.shape)\n",
        "print(network.conv2.weight.shape)\n",
        "print(network.fc1.weight.shape)\n",
        "print(network.fc2.weight.shape)"
      ],
      "metadata": {
        "colab": {
          "base_uri": "https://localhost:8080/"
        },
        "id": "xWjUU9Bi4zEa",
        "outputId": "1fd37e19-07fb-4e20-c0d6-0420224afbd1"
      },
      "execution_count": 52,
      "outputs": [
        {
          "output_type": "stream",
          "name": "stdout",
          "text": [
            "torch.Size([6, 1, 5, 5])\n",
            "torch.Size([12, 6, 5, 5])\n",
            "torch.Size([120, 192])\n",
            "torch.Size([60, 120])\n"
          ]
        }
      ]
    },
    {
      "cell_type": "markdown",
      "source": [
        "## Forward Propagation\n",
        "* transform input tensor to a output.\n",
        "\n",
        "*Try to debug at this point*\n"
      ],
      "metadata": {
        "id": "DKIq-WYH5Wl1"
      }
    },
    {
      "cell_type": "code",
      "source": [
        "sample = next(iter(train_set))\n",
        "image, label = sample\n",
        "image.unsqueeze(0).shape\n",
        "# image shape needs to be (batch_size × in_channels × H × W)"
      ],
      "metadata": {
        "colab": {
          "base_uri": "https://localhost:8080/"
        },
        "id": "eGlMPGgYE27i",
        "outputId": "22667900-0d00-4f46-b238-3b21349909a1"
      },
      "execution_count": 53,
      "outputs": [
        {
          "output_type": "execute_result",
          "data": {
            "text/plain": [
              "torch.Size([1, 1, 28, 28])"
            ]
          },
          "metadata": {},
          "execution_count": 53
        }
      ]
    },
    {
      "cell_type": "code",
      "source": [
        "#apply forward method to a image, output (random) prediction for each class\n",
        "pred = network(image.unsqueeze(0)) \n",
        "pred.sum() "
      ],
      "metadata": {
        "id": "SEYvGN4_5a-8",
        "colab": {
          "base_uri": "https://localhost:8080/"
        },
        "outputId": "8cee8620-480e-44a2-9d95-af3ba26bcfc7"
      },
      "execution_count": 56,
      "outputs": [
        {
          "output_type": "execute_result",
          "data": {
            "text/plain": [
              "tensor(1.0000, grad_fn=<SumBackward0>)"
            ]
          },
          "metadata": {},
          "execution_count": 56
        }
      ]
    },
    {
      "cell_type": "markdown",
      "source": [
        "## Architecture"
      ],
      "metadata": {
        "id": "TsoY1o1mq9jZ"
      }
    },
    {
      "cell_type": "code",
      "source": [
        "import torch\n",
        "import torch.nn as nn\n",
        "import torch.nn.functional as F\n",
        "import torch.optim as optim\n",
        "import torchvision\n",
        "import torchvision.transforms as transforms\n",
        "import torch.utils.data\n",
        "import matplotlib.pyplot as plt\n",
        "from sklearn.metrics import confusion_matrix\n",
        "from sklearn.metrics import plot_confusion_matrix\n",
        "from sklearn.svm import SVC\n",
        "from collections import OrderedDict\n",
        "from collections import namedtuple\n",
        "from itertools import product\n",
        "from torch.utils.data import DataLoader\n",
        "from torch.utils.tensorboard import SummaryWriter\n",
        "from IPython.display import display, clear_output\n",
        "import pandas as pd\n",
        "import time\n",
        "import json\n",
        "import math"
      ],
      "metadata": {
        "id": "eN3mNx2Grjxe"
      },
      "execution_count": null,
      "outputs": []
    },
    {
      "cell_type": "code",
      "source": [
        "class Network(nn.Module):\n",
        "    def __init__(self, channels=1): # default grayscale\n",
        "        super().__init__()\n",
        "        self.conv1 = nn.Conv2d(in_channels=channels, out_channels=6, kernel_size=5) \n",
        "        self.conv2 = nn.Conv2d(in_channels=6, out_channels=12, kernel_size=5)\n",
        "        \n",
        "        self.fc1 = nn.Linear(in_features=12*4*4, out_features=120) # ((28-5+1)/2 -5 +1)/2 = 4\n",
        "        self.fc2 = nn.Linear(in_features=120, out_features=60)\n",
        "        self.out = nn.Linear(in_features=60, out_features=10)\n",
        "        \n",
        "    def forward(self, t):        \n",
        "        # hidden conv layers, conv w/ relu activation -> max pool\n",
        "        t = F.relu(self.conv1(t))\n",
        "        t = F.max_pool2d(t, kernel_size=2, stride=2)\n",
        "        \n",
        "        t = F.relu(self.conv2(t))\n",
        "        t = F.max_pool2d(t, kernel_size=2, stride=2)\n",
        "\n",
        "        # hidden fully connected layers\n",
        "        t = t.reshape(-1, 12*4*4) # flatten\n",
        "        t = F.relu(self.fc1(t))\n",
        "        t = F.relu(self.fc2(t))\n",
        "        \n",
        "        # output layer\n",
        "        t = self.out(t)\n",
        "        return t\n",
        "    \n",
        "def get_num_correct(preds, labels):\n",
        "    return (preds.argmax(dim=1) == labels).sum().item()"
      ],
      "metadata": {
        "id": "g8DAEcUgqy2f"
      },
      "execution_count": null,
      "outputs": []
    },
    {
      "cell_type": "code",
      "source": [
        "torch.manual_seed(50)\n",
        "network = Network()\n",
        "network"
      ],
      "metadata": {
        "colab": {
          "base_uri": "https://localhost:8080/"
        },
        "id": "N72p-N21L4aI",
        "outputId": "f8f54200-1369-4503-e84e-6afee66dfd50"
      },
      "execution_count": null,
      "outputs": [
        {
          "output_type": "execute_result",
          "data": {
            "text/plain": [
              "Network(\n",
              "  (conv1): Conv2d(1, 6, kernel_size=(5, 5), stride=(1, 1))\n",
              "  (conv2): Conv2d(6, 12, kernel_size=(5, 5), stride=(1, 1))\n",
              "  (fc1): Linear(in_features=192, out_features=120, bias=True)\n",
              "  (fc2): Linear(in_features=120, out_features=60, bias=True)\n",
              "  (out): Linear(in_features=60, out_features=10, bias=True)\n",
              ")"
            ]
          },
          "metadata": {},
          "execution_count": 20
        }
      ]
    },
    {
      "cell_type": "markdown",
      "source": [
        "### A concise way"
      ],
      "metadata": {
        "id": "k6K_6dCAMOra"
      }
    },
    {
      "cell_type": "code",
      "source": [
        "torch.manual_seed(50)\n",
        "sequential = nn.Sequential(\n",
        "    nn.Conv2d(in_channels=1, out_channels=6, kernel_size=5),\n",
        "    nn.ReLU(),\n",
        "    nn.MaxPool2d(kernel_size=2, stride=2),\n",
        "    nn.Conv2d(in_channels=6, out_channels=12, kernel_size=5),\n",
        "    nn.ReLU(),\n",
        "    nn.MaxPool2d(kernel_size=2, stride=2),\n",
        "    nn.Flatten(start_dim=1),\n",
        "    nn.Linear(in_features=12*4*4, out_features=120),\n",
        "    nn.ReLU(),\n",
        "    nn.Linear(in_features=120, out_features=60),\n",
        "    nn.ReLU(),\n",
        "    nn.Linear(in_features=60, out_features=10)\n",
        ")"
      ],
      "metadata": {
        "id": "6T34iyrLMRDZ"
      },
      "execution_count": null,
      "outputs": []
    },
    {
      "cell_type": "markdown",
      "source": [
        "## Loop Run builder\n",
        "* to have multiple runs with varying parameters.\n",
        "* use Cartesian Product, basically group every combinations across sets.\n",
        "![截屏2022-05-19 19.46.20.png](data:image/png;base64,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)\n",
        "* need both RunBuilder and RunManager\n"
      ],
      "metadata": {
        "id": "bN8pwwbWvZOl"
      }
    },
    {
      "cell_type": "code",
      "source": [
        "from collections import OrderedDict\n",
        "from collections import namedtuple\n",
        "#computes a Cartesian product\n",
        "from itertools import product"
      ],
      "metadata": {
        "id": "wn1F_gC0HhYu"
      },
      "execution_count": 57,
      "outputs": []
    },
    {
      "cell_type": "code",
      "source": [
        "# to prepare iteration run data\n",
        "class RunBuilder():\n",
        "    @staticmethod\n",
        "    def get_runs(params):#run based on paras we passed\n",
        "        Run = namedtuple('Run', params.keys())\n",
        "        runs = []\n",
        "        for v in product(*params.values()):\n",
        "            runs.append(Run(*v))\n",
        "\n",
        "        return runs\n",
        "    "
      ],
      "metadata": {
        "id": "KYhG8AOVvdR4"
      },
      "execution_count": 58,
      "outputs": []
    },
    {
      "cell_type": "code",
      "source": [
        "#a example with get_runs\n",
        "params = OrderedDict(\n",
        "    lr = [.01, .001]\n",
        "    ,batch_size = [1000, 10000]\n",
        "    ,device = [\"cuda\", \"cpu\"]\n",
        ")\n",
        "\n",
        "runs = RunBuilder.get_runs(params)\n",
        "runs"
      ],
      "metadata": {
        "colab": {
          "base_uri": "https://localhost:8080/"
        },
        "id": "3FW72AugH9Ld",
        "outputId": "9a43dfb4-45eb-4c7f-d0a6-0b0632b4c4ff"
      },
      "execution_count": 61,
      "outputs": [
        {
          "output_type": "execute_result",
          "data": {
            "text/plain": [
              "[Run(lr=0.01, batch_size=1000, device='cuda'),\n",
              " Run(lr=0.01, batch_size=1000, device='cpu'),\n",
              " Run(lr=0.01, batch_size=10000, device='cuda'),\n",
              " Run(lr=0.01, batch_size=10000, device='cpu'),\n",
              " Run(lr=0.001, batch_size=1000, device='cuda'),\n",
              " Run(lr=0.001, batch_size=1000, device='cpu'),\n",
              " Run(lr=0.001, batch_size=10000, device='cuda'),\n",
              " Run(lr=0.001, batch_size=10000, device='cpu')]"
            ]
          },
          "metadata": {},
          "execution_count": 61
        }
      ]
    },
    {
      "cell_type": "code",
      "source": [
        "import torch\n",
        "import torch.nn as nn\n",
        "import torch.optim as optim\n",
        "import torch.nn.functional as F\n",
        "import torchvision\n",
        "import torchvision.transforms as transforms\n",
        "\n",
        "from torch.utils.data import DataLoader\n",
        "from torch.utils.tensorboard import SummaryWriter\n",
        "from IPython.display import display, clear_output\n",
        "import pandas as pd\n",
        "import time\n",
        "import json\n",
        "\n",
        "from itertools import product\n",
        "from collections import namedtuple\n",
        "from collections import OrderedDict"
      ],
      "metadata": {
        "id": "OEUl8EVAKKBH"
      },
      "execution_count": 63,
      "outputs": []
    },
    {
      "cell_type": "code",
      "source": [
        "#allow us to manage each run with epoch and batch inside our run loop. \n",
        "#record accuracy, loss etc. and pull out TensorBoard calls.\n",
        "class RunManager:\n",
        "  def __init__(self):\n",
        "\n",
        "    self.epoch_count = 0\n",
        "    self.epoch_loss = 0\n",
        "    self.epoch_num_correct = 0\n",
        "    self.epoch_start_time = None\n",
        "\n",
        "    self.run_params = None\n",
        "    self.run_count = 0\n",
        "    self.run_data = []\n",
        "    self.run_start_time = None\n",
        "\n",
        "    self.network = None\n",
        "    self.loader = None\n",
        "    self.tb = None\n",
        "\n",
        "  def begin_run(self, run, network, loader):\n",
        "    self.run_start_time = time.time()\n",
        "    self.run_params = run\n",
        "    self.run_count += 1\n",
        "    self.network = network\n",
        "    self.loader = loader\n",
        "    #for identifying TensorBoard\n",
        "    self.tb = SummaryWriter(comment=f'-{run}')\n",
        "\n",
        "    images, labels = next(iter(self.loader))\n",
        "    grid = torchvision.utils.make_grid(images)\n",
        "\n",
        "    self.tb.add_image('images', grid)\n",
        "    self.tb.add_graph(self.network, images)\n",
        "\n",
        "  def end_run(self):\n",
        "    self.tb.close()\n",
        "    self.epoch_count = 0\n",
        "\n",
        "  def begin_epoch(self):\n",
        "    self.epoch_start_time = time.time()\n",
        "\n",
        "    self.epoch_count += 1\n",
        "    self.epoch_loss = 0\n",
        "    self.epoch_num_correct = 0\n",
        "\n",
        "  def end_epoch(self):\n",
        "\n",
        "    epoch_duration = time.time() - self.epoch_start_time\n",
        "    run_duration = time.time() - self.run_start_time\n",
        "\n",
        "    loss = self.epoch_loss / len(self.loader.dataset)\n",
        "    accuracy = self.epoch_num_correct / len(self.loader.dataset)\n",
        "\n",
        "    self.tb.add_scalar('Loss', loss, self.epoch_count)\n",
        "    self.tb.add_scalar('Accuracy', accuracy, self.epoch_count)\n",
        "\n",
        "    for name, param in self.network.named_parameters():\n",
        "        self.tb.add_histogram(name, param, self.epoch_count)\n",
        "        self.tb.add_histogram(f'{name}.grad', param.grad, self.epoch_count)\n",
        "    \n",
        "    results = OrderedDict()\n",
        "    results[\"run\"] = self.run_count\n",
        "    results[\"epoch\"] = self.epoch_count\n",
        "    results['loss'] = loss\n",
        "    results[\"accuracy\"] = accuracy\n",
        "    results['epoch duration'] = epoch_duration\n",
        "    results['run duration'] = run_duration\n",
        "    for k,v in self.run_params._asdict().items(): results[k] = v\n",
        "    self.run_data.append(results)\n",
        "\n",
        "    df = pd.DataFrame.from_dict(self.run_data, orient='columns')\n",
        "\n",
        "  #track epoch loss \n",
        "  def track_loss(self, loss, batch):\n",
        "    self.epoch_loss += loss.item() * batch[0].shape[0]\n",
        "  #track epoch correct numbers\n",
        "  def track_num_correct(self, preds, labels):\n",
        "      self.epoch_num_correct += self._get_num_correct(preds, labels)\n",
        "  # calculate the number of correct predictions\n",
        "  def _get_num_correct(self, preds, labels):\n",
        "    return preds.argmax(dim=1).eq(labels).sum().item()\n",
        "  #saves the run_data in two formats, json and csv\n",
        "  def save(self, fileName):\n",
        "\n",
        "    pd.DataFrame.from_dict(\n",
        "        self.run_data, orient='columns'\n",
        "    ).to_csv(f'{fileName}.csv')\n",
        "\n",
        "    with open(f'{fileName}.json', 'w', encoding='utf-8') as f:\n",
        "        json.dump(self.run_data, f, ensure_ascii=False, indent=4)"
      ],
      "metadata": {
        "id": "oDVTr6ZVyk8b"
      },
      "execution_count": 66,
      "outputs": []
    },
    {
      "cell_type": "code",
      "source": [
        "class Epoch():\n",
        "    def __init__(self):\n",
        "        self.count = 0\n",
        "        self.loss = 0\n",
        "        self.num_correct = 0\n",
        "        self.start_time = None "
      ],
      "metadata": {
        "id": "lSpngLTGytrL"
      },
      "execution_count": null,
      "outputs": []
    },
    {
      "cell_type": "code",
      "source": [
        "#test with RunManager\n",
        "params = OrderedDict(\n",
        "    lr = [.01]\n",
        "    ,batch_size = [1000, 2000]\n",
        "    ,shuffle = [True, False]\n",
        ")\n",
        "\n",
        "m = RunManager()\n",
        "for run in RunBuilder.get_runs(params):\n",
        "  network = Network()\n",
        "  loader = DataLoader(train_set, batch_size=run.batch_size)\n",
        "  optimizer = optim.Adam(network.parameters(), lr=run.lr)\n",
        "\n",
        "  m.begin_run(run, network, loader)\n",
        "  for epoch in range(5):\n",
        "    m.begin_epoch()\n",
        "    for batch in loader:\n",
        "      images = batch[0]\n",
        "      labels = batch[1]\n",
        "      preds = network(images)\n",
        "      loss = F.cross_entropy(preds, labels)\n",
        "      optimizer.zero_grad()\n",
        "      loss.backward()\n",
        "      optimizer.step()\n",
        "\n",
        "      m.track_loss(loss,batch)\n",
        "      m.track_num_correct(preds, labels)\n",
        "\n",
        "    m.end_epoch()\n",
        "  m.end_run()\n",
        "\n",
        "m.save('results')\n",
        "#result saved in cvs, json file"
      ],
      "metadata": {
        "id": "p-NKGE6BMGun"
      },
      "execution_count": 67,
      "outputs": []
    },
    {
      "cell_type": "markdown",
      "source": [
        "### Set workers i  DataLoader\n",
        "* speed up the neural network training process by utilizing the multiple process capabilities"
      ],
      "metadata": {
        "id": "ArvaA8eFPNcB"
      }
    },
    {
      "cell_type": "code",
      "source": [
        "\n",
        "# params = OrderedDict(\n",
        "#     lr = [.01]\n",
        "#     ,batch_size = [1000, 2000]\n",
        "#     ,num_workers = [0,2,4,8]\n",
        "# )\n",
        "\n",
        "# loader = DataLoader(train_set, batch_size=run.batch_size, num_workers=run.num_workers)"
      ],
      "metadata": {
        "id": "p9Ms5y66PiJP"
      },
      "execution_count": null,
      "outputs": []
    },
    {
      "cell_type": "markdown",
      "source": [
        "## Normalization\n",
        "* transforming the original values of a dataset to new scaled values\n",
        "* standardization\n",
        " * z = (x-mean) / std    \n",
        " * transforms the dataset's mean value to 0 and its standard deviation to 1.\n"
      ],
      "metadata": {
        "id": "tPvqt75un-yJ"
      }
    },
    {
      "cell_type": "markdown",
      "source": [
        "### dataset setting"
      ],
      "metadata": {
        "id": "NJKayN02rD5b"
      }
    },
    {
      "cell_type": "code",
      "source": [
        "# Get data\n",
        "train_set = torchvision.datasets.FashionMNIST(\n",
        "    root='./data/FashionMNIST',\n",
        "    download=True,\n",
        "    transform=transforms.ToTensor()\n",
        ")\n",
        "train_loader = torch.utils.data.DataLoader(train_set, batch_size=100)"
      ],
      "metadata": {
        "colab": {
          "base_uri": "https://localhost:8080/",
          "height": 746,
          "referenced_widgets": [
            "51f1acf314cd4dfa89f39a1fae6f66e0",
            "eefd089df2d9482698c1b8248779464f",
            "3cbce2bf98584c2d85510131f555a584",
            "30b2b833590e48ef965e8af81a184eaf",
            "f1a121a2b5214dd486425a843d82063e",
            "bbbbf16360244d25b05e483a441e418d",
            "b86976db29c643ce8c5d8d0553383997",
            "6bb12c9956e145c78c69cc2e4b133b60",
            "7fda720fe91a4a5aa1932c70f218948b",
            "0a9d870922124658947adbd058c96bb1",
            "48a79a0b78944e6c9b76d5ac7bd5e63a",
            "923e56cfa40b4d7497e949f774543c4f",
            "963bee39837f4c78809c0eae48444a58",
            "bd6f9d9d52a24a3d81b3adf78851f1da",
            "937e36d294044add892d8c5c312745f1",
            "924f2ac721ae4dc1992be020150f08e0",
            "33178622dccf4310a8b39a7b0933c00b",
            "a88c6bdbe2074c6dbc092c495127923a",
            "7769c7b4431b463383dc3fe3a4db2a3e",
            "0939809114d34acaac72e8120360f4b2",
            "1345de2f2b6c468cad6d1176e0462dde",
            "a99f607fbc3740e4b2fa163b1274cd80",
            "2bc476fda45f479f8211bb1af7588cec",
            "3066c1fcdf9949dbbd46f45862896fe0",
            "c8625c543fb245439d6b04aaf199bd2a",
            "d420aea89c764deb89f7f9f6ace9a471",
            "92f1174da895423c8b788390e5e49f14",
            "1f171e3f9a4f4f0cbbd5c82884e7c8cd",
            "76fd21e3e40642cdbd5a108e0cfc8d7c",
            "6837e0bfce93481d870bf13c1c06ecab",
            "cb8efa7a975c4bba89e1800d92e96191",
            "9917449f76ac47f083f8ba45ae4439ad",
            "e7632484a00448c789175f60499da1cc",
            "aa82eec5dc534f998a46151992162eab",
            "0e2a3fd8bc914dc092d9d17b89ea9731",
            "2c79c1bda8c04b54819536aaaed5fb92",
            "98cad49354ed40a0a22971846c2f3e5d",
            "dffeeef3477648159bf33c66636ccf7c",
            "6116be64aa164986909763521de263d8",
            "0c1c82b21b35401b8843cd1a7892e196",
            "9cdd91c9690245fd8b2befbeef01003b",
            "e38aab48d05e421b96b421a980220c69",
            "76244180a2bc4532b38630ebf8e65006",
            "a0a05b72084d4bcbb5d3e9e280224020"
          ]
        },
        "id": "j8ulGtoirHI6",
        "outputId": "aa5a61c5-6050-4d3a-bc32-a59362f7c08f"
      },
      "execution_count": null,
      "outputs": [
        {
          "output_type": "stream",
          "name": "stdout",
          "text": [
            "Downloading http://fashion-mnist.s3-website.eu-central-1.amazonaws.com/train-images-idx3-ubyte.gz\n",
            "Downloading http://fashion-mnist.s3-website.eu-central-1.amazonaws.com/train-images-idx3-ubyte.gz to ./data/FashionMNIST/FashionMNIST/raw/train-images-idx3-ubyte.gz\n"
          ]
        },
        {
          "output_type": "display_data",
          "data": {
            "text/plain": [
              "  0%|          | 0/26421880 [00:00<?, ?it/s]"
            ],
            "application/vnd.jupyter.widget-view+json": {
              "version_major": 2,
              "version_minor": 0,
              "model_id": "51f1acf314cd4dfa89f39a1fae6f66e0"
            }
          },
          "metadata": {}
        },
        {
          "output_type": "stream",
          "name": "stdout",
          "text": [
            "Extracting ./data/FashionMNIST/FashionMNIST/raw/train-images-idx3-ubyte.gz to ./data/FashionMNIST/FashionMNIST/raw\n",
            "\n",
            "Downloading http://fashion-mnist.s3-website.eu-central-1.amazonaws.com/train-labels-idx1-ubyte.gz\n",
            "Downloading http://fashion-mnist.s3-website.eu-central-1.amazonaws.com/train-labels-idx1-ubyte.gz to ./data/FashionMNIST/FashionMNIST/raw/train-labels-idx1-ubyte.gz\n"
          ]
        },
        {
          "output_type": "display_data",
          "data": {
            "text/plain": [
              "  0%|          | 0/29515 [00:00<?, ?it/s]"
            ],
            "application/vnd.jupyter.widget-view+json": {
              "version_major": 2,
              "version_minor": 0,
              "model_id": "923e56cfa40b4d7497e949f774543c4f"
            }
          },
          "metadata": {}
        },
        {
          "output_type": "stream",
          "name": "stdout",
          "text": [
            "Extracting ./data/FashionMNIST/FashionMNIST/raw/train-labels-idx1-ubyte.gz to ./data/FashionMNIST/FashionMNIST/raw\n",
            "\n",
            "Downloading http://fashion-mnist.s3-website.eu-central-1.amazonaws.com/t10k-images-idx3-ubyte.gz\n",
            "Downloading http://fashion-mnist.s3-website.eu-central-1.amazonaws.com/t10k-images-idx3-ubyte.gz to ./data/FashionMNIST/FashionMNIST/raw/t10k-images-idx3-ubyte.gz\n"
          ]
        },
        {
          "output_type": "display_data",
          "data": {
            "text/plain": [
              "  0%|          | 0/4422102 [00:00<?, ?it/s]"
            ],
            "application/vnd.jupyter.widget-view+json": {
              "version_major": 2,
              "version_minor": 0,
              "model_id": "2bc476fda45f479f8211bb1af7588cec"
            }
          },
          "metadata": {}
        },
        {
          "output_type": "stream",
          "name": "stdout",
          "text": [
            "Extracting ./data/FashionMNIST/FashionMNIST/raw/t10k-images-idx3-ubyte.gz to ./data/FashionMNIST/FashionMNIST/raw\n",
            "\n",
            "Downloading http://fashion-mnist.s3-website.eu-central-1.amazonaws.com/t10k-labels-idx1-ubyte.gz\n",
            "Downloading http://fashion-mnist.s3-website.eu-central-1.amazonaws.com/t10k-labels-idx1-ubyte.gz to ./data/FashionMNIST/FashionMNIST/raw/t10k-labels-idx1-ubyte.gz\n"
          ]
        },
        {
          "output_type": "display_data",
          "data": {
            "text/plain": [
              "  0%|          | 0/5148 [00:00<?, ?it/s]"
            ],
            "application/vnd.jupyter.widget-view+json": {
              "version_major": 2,
              "version_minor": 0,
              "model_id": "aa82eec5dc534f998a46151992162eab"
            }
          },
          "metadata": {}
        },
        {
          "output_type": "stream",
          "name": "stdout",
          "text": [
            "Extracting ./data/FashionMNIST/FashionMNIST/raw/t10k-labels-idx1-ubyte.gz to ./data/FashionMNIST/FashionMNIST/raw\n",
            "\n"
          ]
        }
      ]
    },
    {
      "cell_type": "markdown",
      "source": [
        "### Compute the mean, std"
      ],
      "metadata": {
        "id": "UvqwREZwp2_m"
      }
    },
    {
      "cell_type": "code",
      "source": [
        "loader = torch.utils.data.DataLoader(train_set, batch_size=1000,num_workers=1)\n",
        "data = next(iter(loader))\n",
        "num_of_pixels = len(train_set) * 28 * 28\n",
        "\n",
        "#compute mean\n",
        "total_sum = 0\n",
        "for batch in loader: total_sum += batch[0].sum()\n",
        "mean = total_sum/ num_of_pixels\n",
        "#compute standard\n",
        "sum_of_squared_error = 0\n",
        "for batch in loader: sum_of_squared_error += ((batch[0] - mean).pow(2)).sum(2)\n",
        "std = torch.sqrt(sum_of_squared_error / num_of_pixels)\n",
        "\n",
        "mean, std"
      ],
      "metadata": {
        "id": "wGL1ycmeoFZd",
        "colab": {
          "base_uri": "https://localhost:8080/"
        },
        "outputId": "8c374bce-c6b1-4fa3-f253-6a1373bfbfe0"
      },
      "execution_count": null,
      "outputs": [
        {
          "output_type": "execute_result",
          "data": {
            "text/plain": [
              "(tensor(0.2860),\n",
              " tensor([[[0.0017, 0.0017, 0.0017,  ..., 0.0020, 0.0019, 0.0017]],\n",
              " \n",
              "         [[0.0017, 0.0018, 0.0017,  ..., 0.0018, 0.0018, 0.0017]],\n",
              " \n",
              "         [[0.0017, 0.0017, 0.0017,  ..., 0.0018, 0.0018, 0.0017]],\n",
              " \n",
              "         ...,\n",
              " \n",
              "         [[0.0017, 0.0017, 0.0017,  ..., 0.0019, 0.0018, 0.0017]],\n",
              " \n",
              "         [[0.0017, 0.0017, 0.0018,  ..., 0.0019, 0.0018, 0.0017]],\n",
              " \n",
              "         [[0.0017, 0.0018, 0.0018,  ..., 0.0018, 0.0019, 0.0017]]]))"
            ]
          },
          "metadata": {},
          "execution_count": 26
        }
      ]
    },
    {
      "cell_type": "markdown",
      "source": [
        "### Plot the values"
      ],
      "metadata": {
        "id": "NaMN4kb1powe"
      }
    },
    {
      "cell_type": "code",
      "source": [
        "plt.hist(data[0].flatten())\n",
        "plt.axvline(data[0].mean())"
      ],
      "metadata": {
        "id": "LiL00Hogp9vU",
        "colab": {
          "base_uri": "https://localhost:8080/",
          "height": 72
        },
        "outputId": "c70c18a4-022d-458a-ca6f-dd3aa7aa0da7"
      },
      "execution_count": null,
      "outputs": [
        {
          "output_type": "execute_result",
          "data": {
            "text/plain": [
              "<matplotlib.lines.Line2D at 0x7f346cf3fbd0>"
            ]
          },
          "metadata": {},
          "execution_count": 27
        },
        {
          "output_type": "display_data",
          "data": {
            "text/plain": [
              "<Figure size 432x288 with 1 Axes>"
            ],
            "image/png": "[encoded data removed]"
          },
          "metadata": {
            "needs_background": "light"
          }
        }
      ]
    },
    {
      "cell_type": "markdown",
      "source": [
        "##Sequential model initializations\n"
      ],
      "metadata": {
        "id": "6z_FuXugHXrB"
      }
    },
    {
      "cell_type": "code",
      "source": [
        "images, labels = train_set[0]\n",
        "in_features = images.numel()\n",
        "out_features = math.floor(in_features / 2)\n",
        "out_classes = len(train_set.classes)"
      ],
      "metadata": {
        "id": "5o_Z5L4ZHk9i",
        "colab": {
          "base_uri": "https://localhost:8080/"
        },
        "outputId": "9da40759-05b3-45ac-f67e-98baf33d705b"
      },
      "execution_count": 69,
      "outputs": [
        {
          "output_type": "execute_result",
          "data": {
            "text/plain": [
              "torch.Size([1, 28, 28])"
            ]
          },
          "metadata": {},
          "execution_count": 69
        }
      ]
    },
    {
      "cell_type": "markdown",
      "source": [
        "### method 1 "
      ],
      "metadata": {
        "id": "yfU_nepzIOdX"
      }
    },
    {
      "cell_type": "code",
      "source": [
        "network1 = nn.Sequential(\n",
        "    nn.Flatten(start_dim =1 ),\n",
        "    nn.Linear(in_features,out_features),\n",
        "    nn.Linear(out_features, out_classes)\n",
        ")\n",
        "\n",
        "network1"
      ],
      "metadata": {
        "id": "KOhn-0EcIt9x",
        "colab": {
          "base_uri": "https://localhost:8080/"
        },
        "outputId": "3e5b3dcd-ac8f-4553-c3f6-37341dcaa10f"
      },
      "execution_count": 76,
      "outputs": [
        {
          "output_type": "execute_result",
          "data": {
            "text/plain": [
              "Sequential(\n",
              "  (0): Flatten(start_dim=1, end_dim=-1)\n",
              "  (1): Linear(in_features=784, out_features=392, bias=True)\n",
              "  (2): Linear(in_features=392, out_features=10, bias=True)\n",
              ")"
            ]
          },
          "metadata": {},
          "execution_count": 76
        }
      ]
    },
    {
      "cell_type": "markdown",
      "source": [
        "### method 2"
      ],
      "metadata": {
        "id": "XZJfgJztIV7C"
      }
    },
    {
      "cell_type": "code",
      "source": [
        "layers = OrderedDict([\n",
        "  ('flat',nn.Flatten(start_dim=1)),\n",
        "  ('hidden',nn.Linear(in_features, out_features)),\n",
        "  ('output', nn.Linear(out_features,out_classes))\n",
        "])\n",
        "\n",
        "network2 = nn.Sequential(layers)\n",
        "network2"
      ],
      "metadata": {
        "id": "VTm5FdW2JW3M",
        "colab": {
          "base_uri": "https://localhost:8080/"
        },
        "outputId": "eea6ae62-3821-488e-847a-16d17e3a5449"
      },
      "execution_count": 78,
      "outputs": [
        {
          "output_type": "execute_result",
          "data": {
            "text/plain": [
              "Sequential(\n",
              "  (flat): Flatten(start_dim=1, end_dim=-1)\n",
              "  (hidden): Linear(in_features=784, out_features=392, bias=True)\n",
              "  (output): Linear(in_features=392, out_features=10, bias=True)\n",
              ")"
            ]
          },
          "metadata": {},
          "execution_count": 78
        }
      ]
    },
    {
      "cell_type": "code",
      "source": [
        "image = images.unsqueeze(0)\n",
        "network1(image)"
      ],
      "metadata": {
        "id": "4pg16_oLJFNT",
        "colab": {
          "base_uri": "https://localhost:8080/"
        },
        "outputId": "34f4eb56-71a0-469c-b0d8-f2d03e1d2aaa"
      },
      "execution_count": 77,
      "outputs": [
        {
          "output_type": "execute_result",
          "data": {
            "text/plain": [
              "tensor([[-0.3858,  0.3713,  0.0122,  0.0821, -0.0005,  0.0168, -0.1262, -0.2523,\n",
              "          0.1939,  0.2220]], grad_fn=<AddmmBackward0>)"
            ]
          },
          "metadata": {},
          "execution_count": 77
        }
      ]
    },
    {
      "cell_type": "code",
      "source": [
        "network2(image)"
      ],
      "metadata": {
        "id": "L2I-4WP7KPR6",
        "colab": {
          "base_uri": "https://localhost:8080/"
        },
        "outputId": "d3a56b2e-4b64-4098-cd6f-aa72786d31e4"
      },
      "execution_count": 79,
      "outputs": [
        {
          "output_type": "execute_result",
          "data": {
            "text/plain": [
              "tensor([[-0.1239, -0.1404, -0.3140,  0.1986,  0.4108,  0.2867,  0.2359,  0.1980,\n",
              "         -0.0851, -0.1285]], grad_fn=<AddmmBackward0>)"
            ]
          },
          "metadata": {},
          "execution_count": 79
        }
      ]
    },
    {
      "cell_type": "markdown",
      "source": [
        "### method 3"
      ],
      "metadata": {
        "id": "hoBS7Vb6IoPo"
      }
    },
    {
      "cell_type": "code",
      "source": [
        "#set random value with a seed\n",
        "torch.manual_seed(50)\n",
        "network3 = nn.Sequential()\n",
        "network3.add_module('flat', nn.Flatten(start_dim = 1))\n",
        "network3.add_module('hidden', nn.Linear(in_features, out_features))\n",
        "network3.add_module('output', nn.Linear(out_features, out_classes))\n",
        "network3"
      ],
      "metadata": {
        "id": "PYm_WzSIKSBE"
      },
      "execution_count": null,
      "outputs": []
    },
    {
      "cell_type": "code",
      "source": [
        "network1(image), network2(image), network3(image)"
      ],
      "metadata": {
        "id": "7WpmkUodLfTS"
      },
      "execution_count": null,
      "outputs": []
    },
    {
      "cell_type": "markdown",
      "source": [
        "## Batch Normalization\n",
        "To normalize the output of layer to keep them in a range"
      ],
      "metadata": {
        "id": "nxt2a9wfLpgT"
      }
    },
    {
      "cell_type": "code",
      "source": [
        "torch.manual_seed(50)\n",
        "network1 = nn.Sequential(\n",
        "      nn.Conv2d(in_channels=1, out_channels=6, kernel_size=5)\n",
        "    , nn.ReLU()\n",
        "    , nn.MaxPool2d(kernel_size=2, stride=2)\n",
        "    , nn.Conv2d(in_channels=6, out_channels=12, kernel_size=5)\n",
        "    , nn.ReLU()\n",
        "    , nn.MaxPool2d(kernel_size=2, stride=2)\n",
        "    , nn.Flatten(start_dim=1)  \n",
        "    , nn.Linear(in_features=12*4*4, out_features=120)\n",
        "    , nn.ReLU()\n",
        "    , nn.Linear(in_features=120, out_features=60)\n",
        "    , nn.ReLU()\n",
        "    , nn.Linear(in_features=60, out_features=10)\n",
        ")"
      ],
      "metadata": {
        "id": "IT_hCj6wOZpb"
      },
      "execution_count": null,
      "outputs": []
    },
    {
      "cell_type": "code",
      "source": [
        "torch.manual_seed(50)\n",
        "network2 = nn.Sequential(\n",
        "      nn.Conv2d(in_channels=1, out_channels=6, kernel_size=5)\n",
        "    , nn.ReLU()\n",
        "    , nn.MaxPool2d(kernel_size=2, stride=2)\n",
        "    , nn.BatchNorm2d(6)\n",
        "    , nn.Conv2d(in_channels=6, out_channels=12, kernel_size=5)\n",
        "    , nn.ReLU()\n",
        "    , nn.MaxPool2d(kernel_size=2, stride=2)\n",
        "    , nn.Flatten(start_dim=1)  \n",
        "    , nn.Linear(in_features=12*4*4, out_features=120)\n",
        "    , nn.ReLU()\n",
        "    , nn.BatchNorm1d(120)\n",
        "    , nn.Linear(in_features=120, out_features=60)\n",
        "    , nn.ReLU()\n",
        "    , nn.Linear(in_features=60, out_features=10)\n",
        ")"
      ],
      "metadata": {
        "id": "dQXx252MOJnL"
      },
      "execution_count": null,
      "outputs": []
    },
    {
      "cell_type": "code",
      "source": [
        "networks = {\n",
        "    'no_batch_norm': network1\n",
        "    ,'batch_norm': network2\n",
        "}"
      ],
      "metadata": {
        "id": "NnfdRjfVOOpH"
      },
      "execution_count": null,
      "outputs": []
    },
    {
      "cell_type": "code",
      "source": [
        "params = OrderedDict(\n",
        "    lr = [.01]\n",
        "    , batch_size = [1000]\n",
        "    , num_workers = [1]\n",
        "    , device = ['cuda']\n",
        "    , trainset = ['normal']\n",
        "    , network = list(networks.keys())\n",
        ")"
      ],
      "metadata": {
        "id": "TR6UkbOYOP6H"
      },
      "execution_count": null,
      "outputs": []
    },
    {
      "cell_type": "code",
      "source": [
        "network = networks[run.network].to(device)"
      ],
      "metadata": {
        "id": "X9ORXUKaOR6Q"
      },
      "execution_count": null,
      "outputs": []
    },
    {
      "cell_type": "markdown",
      "source": [
        "## Reset weights\n",
        "* of a layer or every layer\n",
        "* snapshot \n",
        "* re-initialization"
      ],
      "metadata": {
        "id": "pRZhN3YlLX9Q"
      }
    },
    {
      "cell_type": "markdown",
      "source": [
        "### reset one layer \n",
        "* check - change - check - reset - check"
      ],
      "metadata": {
        "id": "OfONGa1SVT1A"
      }
    },
    {
      "cell_type": "code",
      "source": [
        "torch.manual_seed(50)\n",
        "layer = nn.Linear(2,1)"
      ],
      "metadata": {
        "id": "ejb0n6ftPORC"
      },
      "execution_count": 80,
      "outputs": []
    },
    {
      "cell_type": "code",
      "source": [
        "layer.weight\n",
        "#1 check "
      ],
      "metadata": {
        "id": "wZdN8GgSPUiE",
        "colab": {
          "base_uri": "https://localhost:8080/"
        },
        "outputId": "4b00fb91-be94-4b29-ab90-00a8fc484c6b"
      },
      "execution_count": 89,
      "outputs": [
        {
          "output_type": "execute_result",
          "data": {
            "text/plain": [
              "Parameter containing:\n",
              "tensor([[ 0.1669, -0.6100]], requires_grad=True)"
            ]
          },
          "metadata": {},
          "execution_count": 89
        }
      ]
    },
    {
      "cell_type": "code",
      "source": [
        "t= torch.rand(2)\n",
        "o = layer(t)\n",
        "o.backward()"
      ],
      "metadata": {
        "id": "kwZGVwqEPXb8"
      },
      "execution_count": 84,
      "outputs": []
    },
    {
      "cell_type": "code",
      "source": [
        "optimizer = optim.Adam(layer.parameters(), lr=.01)\n",
        "optimizer.step()\n",
        "#2 change "
      ],
      "metadata": {
        "id": "LZ11uK7BPgYd"
      },
      "execution_count": 90,
      "outputs": []
    },
    {
      "cell_type": "code",
      "source": [
        "layer.weight\n",
        "#3 check "
      ],
      "metadata": {
        "id": "yPfmfCtcPpEh",
        "colab": {
          "base_uri": "https://localhost:8080/"
        },
        "outputId": "49187c2c-7f8a-4c63-ba57-81db4cc15224"
      },
      "execution_count": 86,
      "outputs": [
        {
          "output_type": "execute_result",
          "data": {
            "text/plain": [
              "Parameter containing:\n",
              "tensor([[ 0.1569, -0.6200]], requires_grad=True)"
            ]
          },
          "metadata": {},
          "execution_count": 86
        }
      ]
    },
    {
      "cell_type": "code",
      "source": [
        "torch.manual_seed(50)\n",
        "layer.reset_parameters()\n",
        "#4 reset params and bias"
      ],
      "metadata": {
        "id": "lQ2ecJMpPpbN"
      },
      "execution_count": 87,
      "outputs": []
    },
    {
      "cell_type": "code",
      "source": [
        "layer.weight\n",
        "#check"
      ],
      "metadata": {
        "id": "77zOmdEZPyV3",
        "colab": {
          "base_uri": "https://localhost:8080/"
        },
        "outputId": "2c9fbb03-615f-4457-8935-f01a9fdbf8d8"
      },
      "execution_count": 88,
      "outputs": [
        {
          "output_type": "execute_result",
          "data": {
            "text/plain": [
              "Parameter containing:\n",
              "tensor([[ 0.1669, -0.6100]], requires_grad=True)"
            ]
          },
          "metadata": {},
          "execution_count": 88
        }
      ]
    },
    {
      "cell_type": "markdown",
      "source": [
        "### Reset in a snapshot\n",
        "* reset all of the weights in an PyTorch model \n",
        "* saving the network's state to disk.\n"
      ],
      "metadata": {
        "id": "em9Q5rZSP0z1"
      }
    },
    {
      "cell_type": "code",
      "source": [
        "torch.manual_seed(50)\n",
        "network = nn.Sequential(nn.Linear(2,1))\n",
        "\n",
        "network[0].weight\n",
        "# Output\n",
        "# Parameter containing:\n",
        "# tensor([[ 0.1669, -0.6100]], requires_grad=True)\n",
        "\n",
        "torch.save(network.state_dict(), \"./network.pt\")\n",
        "\n",
        "t = torch.rand(2)\n",
        "o = network(t)\n",
        "o.backward()\n",
        "optimizer = optim.Adam(network.parameters(), lr=.01)\n",
        "optimizer.step()\n",
        "\n",
        "network[0].weight\n",
        "# Parameter containing:\n",
        "# tensor([[ 0.1569, -0.6200]], requires_grad=True)\n",
        "\n",
        "network.load_state_dict(torch.load(\"./network.pt\"))\n",
        "\n",
        "network[0].weight\n",
        "# Parameter containing:\n",
        "# tensor([[ 0.1669, -0.6100]], requires_grad=True)"
      ],
      "metadata": {
        "id": "SnZD2DlOQlgh"
      },
      "execution_count": null,
      "outputs": []
    },
    {
      "cell_type": "markdown",
      "source": [
        "### Re-initialization"
      ],
      "metadata": {
        "id": "JKaQIZt4WK4g"
      }
    },
    {
      "cell_type": "code",
      "source": [
        "torch.manual_seed(50)\n",
        "network = nn.Sequential(nn.Linear(2,1))\n",
        "\n",
        "network[0].weight\n",
        "\n",
        "t=torch.rand(2)\n",
        "o = network(t)\n",
        "o.backward()\n",
        "optimizer = optim.Adam(network.parameters(),lr=.01)\n",
        "optimizer.step()\n",
        "\n",
        "network[0].weight\n",
        "torch.manual_seed(50)\n",
        "network = nn.Sequential(nn.Linear(2,1))\n",
        "\n",
        "network[0].weight"
      ],
      "metadata": {
        "colab": {
          "base_uri": "https://localhost:8080/"
        },
        "id": "09ihkR4aWPeI",
        "outputId": "1c1bc501-c6d3-439a-f288-a804fc137e33"
      },
      "execution_count": 91,
      "outputs": [
        {
          "output_type": "execute_result",
          "data": {
            "text/plain": [
              "Parameter containing:\n",
              "tensor([[ 0.1669, -0.6100]], requires_grad=True)"
            ]
          },
          "metadata": {},
          "execution_count": 91
        }
      ]
    },
    {
      "cell_type": "markdown",
      "source": [
        "##Training many networks\n",
        " \n",
        " reset in a different loop\n",
        " replace the dict with a factory"
      ],
      "metadata": {
        "id": "IkD6yWVhQmtw"
      }
    },
    {
      "cell_type": "code",
      "source": [
        "# handles the production of networks\n",
        "class NetworkFactory():\n",
        "    @staticmethod\n",
        "    def get_network(name):\n",
        "        if name == 'network':\n",
        "            torch.manual_seed(50)\n",
        "            return nn.Sequential(\n",
        "                nn.Conv2d(in_channels=1, out_channels=6, kernel_size=5)\n",
        "                , nn.ReLU()\n",
        "                , nn.MaxPool2d(kernel_size=2, stride=2)\n",
        "                , nn.Conv2d(in_channels=6, out_channels=12, kernel_size=5)\n",
        "                , nn.ReLU()\n",
        "                , nn.MaxPool2d(kernel_size=2, stride=2)\n",
        "                , nn.Flatten(start_dim=1)  \n",
        "                , nn.Linear(in_features=12*4*4, out_features=120)\n",
        "                , nn.ReLU()\n",
        "                , nn.Linear(in_features=120, out_features=60)\n",
        "                , nn.ReLU()\n",
        "                , nn.Linear(in_features=60, out_features=10)\n",
        "            )\n",
        "        else:\n",
        "            return None"
      ],
      "metadata": {
        "id": "ZoevCvvhRKSB"
      },
      "execution_count": null,
      "outputs": []
    },
    {
      "cell_type": "code",
      "source": [
        "network = NetworkFactory.get_network(run.network).to(device)"
      ],
      "metadata": {
        "id": "uqU5aw5pRhMs"
      },
      "execution_count": null,
      "outputs": []
    },
    {
      "cell_type": "markdown",
      "source": [
        "# Max pooling\n",
        "* choose maximum among a pool, then reduce dim."
      ],
      "metadata": {
        "id": "sazp8RYA5drO"
      }
    },
    {
      "cell_type": "code",
      "source": [
        "class NetworkFactory():\n",
        "    @staticmethod\n",
        "    def get_network(name):\n",
        "        if name == 'max_pool':\n",
        "            torch.manual_seed(50)\n",
        "            return nn.Sequential(\n",
        "                    nn.Conv2d(in_channels=1, out_channels=6, kernel_size=5)\n",
        "                , nn.ReLU()\n",
        "                , nn.MaxPool2d(kernel_size=2, stride=2)\n",
        "                , nn.BatchNorm2d(6)\n",
        "                , nn.Conv2d(in_channels=6, out_channels=12, kernel_size=5)\n",
        "                , nn.ReLU()\n",
        "                , nn.MaxPool2d(kernel_size=2, stride=2)\n",
        "                , nn.Flatten(start_dim=1)  \n",
        "                , nn.Linear(in_features=12*4*4, out_features=120)\n",
        "                , nn.ReLU()\n",
        "                , nn.BatchNorm1d(120)\n",
        "                , nn.Linear(in_features=120, out_features=60)\n",
        "                , nn.ReLU()\n",
        "                , nn.Linear(in_features=60, out_features=10)\n",
        "            )\n",
        "        elif name == 'no_max_pool':\n",
        "            torch.manual_seed(50)\n",
        "            return nn.Sequential(\n",
        "                    nn.Conv2d(in_channels=1, out_channels=6, kernel_size=5)\n",
        "                , nn.ReLU()\n",
        "                # , nn.MaxPool2d(kernel_size=2, stride=2)\n",
        "                , nn.BatchNorm2d(6)\n",
        "                , nn.Conv2d(in_channels=6, out_channels=12, kernel_size=5)\n",
        "                , nn.ReLU()\n",
        "                # , nn.MaxPool2d(kernel_size=2, stride=2)\n",
        "                , nn.Flatten(start_dim=1)  \n",
        "                , nn.Linear(in_features=12*20*20, out_features=120)\n",
        "                , nn.ReLU()\n",
        "                , nn.BatchNorm1d(120)\n",
        "                , nn.Linear(in_features=120, out_features=60)\n",
        "                , nn.ReLU()\n",
        "                , nn.Linear(in_features=60, out_features=10)\n",
        "            )\n",
        "        else:\n",
        "            return None\n"
      ],
      "metadata": {
        "id": "8Wm7yx-K5g0X"
      },
      "execution_count": null,
      "outputs": []
    },
    {
      "cell_type": "code",
      "source": [
        "params = OrderedDict(\n",
        "    lr = [.01]\n",
        "    , batch_size = [1000]\n",
        "    , num_workers = [1]\n",
        "    , device = ['cuda']\n",
        "    , network = ['max_pool', 'no_max_pool']\n",
        ")"
      ],
      "metadata": {
        "id": "tFRCsp965z3j"
      },
      "execution_count": null,
      "outputs": []
    },
    {
      "cell_type": "code",
      "source": [
        "#compare the results with and without maxpooling \n",
        "m = RunManager()\n",
        "for run in RunBuilder.get_runs(params):\n",
        "\n",
        "    device = torch.device(run.device)\n",
        "    network = NetworkFactory.get_network(run.network).to(device)\n",
        "    loader = DataLoader(\n",
        "          train_set\n",
        "        , batch_size=run.batch_size\n",
        "        , num_workers=run.num_workers\n",
        "    )\n",
        "    optimizer = optim.Adam(network.parameters(), lr=run.lr)\n",
        "    \n",
        "    m.begin_run(run, network, loader)\n",
        "    for epoch in range(20):\n",
        "        m.begin_epoch()\n",
        "        for batch in loader:\n",
        "            \n",
        "            images = batch[0].to(device)\n",
        "            labels = batch[1].to(device)\n",
        "            preds = network(images) # Pass Batch\n",
        "            loss = F.cross_entropy(preds, labels) # Calculate Loss\n",
        "            optimizer.zero_grad() # Zero Gradients\n",
        "            loss.backward() # Calculate Gradients\n",
        "            optimizer.step() # Update Weights\n",
        "            \n",
        "            m.track_loss(loss, batch)\n",
        "            m.track_num_correct(preds, labels)\n",
        "        m.end_epoch()\n",
        "    m.end_run()\n",
        "m.save('results')"
      ],
      "metadata": {
        "id": "SJN01bZP53VF"
      },
      "execution_count": null,
      "outputs": []
    }
  ]
}